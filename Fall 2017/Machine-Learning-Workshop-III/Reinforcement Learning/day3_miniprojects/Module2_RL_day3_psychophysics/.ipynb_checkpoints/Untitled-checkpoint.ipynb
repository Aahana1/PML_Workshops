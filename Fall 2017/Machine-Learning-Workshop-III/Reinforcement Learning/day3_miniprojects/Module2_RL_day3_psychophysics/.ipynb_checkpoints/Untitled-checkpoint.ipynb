{
 "cells": [
  {
   "cell_type": "code",
   "execution_count": 2,
   "metadata": {},
   "outputs": [
    {
     "data": {
      "application/javascript": [
       "IPython.notebook.set_autosave_interval(60000)"
      ]
     },
     "metadata": {},
     "output_type": "display_data"
    },
    {
     "name": "stdout",
     "output_type": "stream",
     "text": [
      "Autosaving every 60 seconds\n"
     ]
    }
   ],
   "source": [
    "% matplotlib inline\n",
    "% autosave 60\n",
    "import numpy as np\n",
    "import matplotlib.pyplot as plt\n",
    "from pylab import *"
   ]
  },
  {
   "cell_type": "code",
   "execution_count": 3,
   "metadata": {},
   "outputs": [],
   "source": [
    "# Import definitions of the environments.\n",
    "import RL_worlds as worlds\n",
    "\n",
    "# Import helper functions for plotting.\n",
    "from plot_util import *"
   ]
  },
  {
   "cell_type": "code",
   "execution_count": 4,
   "metadata": {},
   "outputs": [
    {
     "name": "stderr",
     "output_type": "stream",
     "text": [
      "C:\\Users\\xiaji\\Anaconda2\\lib\\site-packages\\ipykernel\\__main__.py:9: SettingWithCopyWarning: \n",
      "A value is trying to be set on a copy of a slice from a DataFrame\n",
      "\n",
      "See the caveats in the documentation: http://pandas.pydata.org/pandas-docs/stable/indexing.html#indexing-view-versus-copy\n",
      "C:\\Users\\xiaji\\Anaconda2\\lib\\site-packages\\ipykernel\\__main__.py:10: SettingWithCopyWarning: \n",
      "A value is trying to be set on a copy of a slice from a DataFrame\n",
      "\n",
      "See the caveats in the documentation: http://pandas.pydata.org/pandas-docs/stable/indexing.html#indexing-view-versus-copy\n"
     ]
    }
   ],
   "source": [
    "import pandas as pd\n",
    "\n",
    "Data = pd.read_csv('g_2017_Jul_16_1609.csv')\n",
    "\n",
    "\n",
    "reward = Data['reward']\n",
    "action = Data['response.keys']\n",
    "\n",
    "action[action=='left'] = 0\n",
    "action[action=='right'] = 1\n",
    "\n",
    "reward = np.array(reward)\n",
    "action = np.array(action)\n"
   ]
  },
  {
   "cell_type": "code",
   "execution_count": 5,
   "metadata": {
    "collapsed": true
   },
   "outputs": [],
   "source": [
    "def neg_likelihood(params, reward, action):\n",
    "    alpha = params[0]\n",
    "    beta = params[1]\n",
    "    \n",
    "    q = np.zeros(2)\n",
    "    n_trials = 100\n",
    "    policy = np.array([0.5,0.5])\n",
    "    \n",
    "    ll = 0\n",
    "    for i in range(n_trials):\n",
    "        ll += np.log(0.001+policy[action[i]])\n",
    "        \n",
    "        q[action[i]] = q[action[i]] + alpha * (reward[i]-q[action[i]])\n",
    "        policy = np.exp(q * beta)\n",
    "        policy = policy/sum(policy)\n",
    "        \n",
    "        \n",
    "    return -ll\n",
    "    \n",
    "    \n",
    "    \n",
    "                                                   "
   ]
  },
  {
   "cell_type": "code",
   "execution_count": 12,
   "metadata": {},
   "outputs": [
    {
     "data": {
      "text/plain": [
       "16.357545546044644"
      ]
     },
     "execution_count": 12,
     "metadata": {},
     "output_type": "execute_result"
    }
   ],
   "source": [
    "neg_likelihood(res.x, reward, action)"
   ]
  },
  {
   "cell_type": "code",
   "execution_count": 7,
   "metadata": {},
   "outputs": [],
   "source": [
    "from scipy.optimize import minimize"
   ]
  },
  {
   "cell_type": "code",
   "execution_count": 11,
   "metadata": {},
   "outputs": [
    {
     "data": {
      "text/plain": [
       "-16.358665564846554"
      ]
     },
     "execution_count": 11,
     "metadata": {},
     "output_type": "execute_result"
    }
   ],
   "source": [
    "np.max(ll)"
   ]
  },
  {
   "cell_type": "code",
   "execution_count": 9,
   "metadata": {},
   "outputs": [
    {
     "data": {
      "text/plain": [
       "array([ 0.53898932,  7.47755033])"
      ]
     },
     "execution_count": 9,
     "metadata": {},
     "output_type": "execute_result"
    }
   ],
   "source": [
    "res = minimize(neg_likelihood, [0.5,5], args=(reward, action),bounds = [(0,1),(0,20)])\n",
    "res.x"
   ]
  },
  {
   "cell_type": "code",
   "execution_count": 23,
   "metadata": {},
   "outputs": [
    {
     "name": "stdout",
     "output_type": "stream",
     "text": [
      "[ 0.    0.01  0.02  0.03  0.04  0.05  0.06  0.07  0.08  0.09  0.1   0.11\n",
      "  0.12  0.13  0.14  0.15  0.16  0.17  0.18  0.19  0.2   0.21  0.22  0.23\n",
      "  0.24  0.25  0.26  0.27  0.28  0.29  0.3   0.31  0.32  0.33  0.34  0.35\n",
      "  0.36  0.37  0.38  0.39  0.4   0.41  0.42  0.43  0.44  0.45  0.46  0.47\n",
      "  0.48  0.49  0.5   0.51  0.52  0.53  0.54  0.55  0.56  0.57  0.58  0.59\n",
      "  0.6   0.61  0.62  0.63  0.64  0.65  0.66  0.67  0.68  0.69  0.7   0.71\n",
      "  0.72  0.73  0.74  0.75  0.76  0.77  0.78  0.79  0.8   0.81  0.82  0.83\n",
      "  0.84  0.85  0.86  0.87  0.88  0.89  0.9   0.91  0.92  0.93  0.94  0.95\n",
      "  0.96  0.97  0.98  0.99  1.  ]\n",
      "[  0.    0.2   0.4   0.6   0.8   1.    1.2   1.4   1.6   1.8   2.    2.2\n",
      "   2.4   2.6   2.8   3.    3.2   3.4   3.6   3.8   4.    4.2   4.4   4.6\n",
      "   4.8   5.    5.2   5.4   5.6   5.8   6.    6.2   6.4   6.6   6.8   7.\n",
      "   7.2   7.4   7.6   7.8   8.    8.2   8.4   8.6   8.8   9.    9.2   9.4\n",
      "   9.6   9.8  10.   10.2  10.4  10.6  10.8  11.   11.2  11.4  11.6  11.8\n",
      "  12.   12.2  12.4  12.6  12.8  13.   13.2  13.4  13.6  13.8  14.   14.2\n",
      "  14.4  14.6  14.8  15.   15.2  15.4  15.6  15.8  16.   16.2  16.4  16.6\n",
      "  16.8  17.   17.2  17.4  17.6  17.8  18.   18.2  18.4  18.6  18.8  19.\n",
      "  19.2  19.4  19.6  19.8  20. ]\n"
     ]
    },
    {
     "data": {
      "image/png": "[encoded data removed]",
      "text/plain": [
       "<matplotlib.figure.Figure at 0xdaf0a58>"
      ]
     },
     "metadata": {},
     "output_type": "display_data"
    }
   ],
   "source": [
    "alpha_max = 1.\n",
    "beta_max = 20.\n",
    "n_data = 101\n",
    "\n",
    "\n",
    "alpha0 = np.linspace(0,alpha_max,n_data)\n",
    "beta0 = np.linspace(0,beta_max,n_data)\n",
    "\n",
    "\n",
    "\n",
    "\n",
    "ll = np.zeros((n_data,n_data))\n",
    "for i,B0 in enumerate(alpha0):\n",
    "    for j,B1 in enumerate(beta0):\n",
    "        ll[i,j] = -neg_likelihood([B0,B1],reward, action)\n",
    "        \n"
   ]
  },
  {
   "cell_type": "code",
   "execution_count": 34,
   "metadata": {},
   "outputs": [
    {
     "data": {
      "image/png": "[encoded data removed]",
      "text/plain": [
       "<matplotlib.figure.Figure at 0xda8fba8>"
      ]
     },
     "metadata": {},
     "output_type": "display_data"
    }
   ],
   "source": [
    "def ll_heatmap(alpha_max, beta_max, n_data,res, fig_name):\n",
    "    \n",
    "    alpha0 = np.linspace(0,alpha_max,n_data)\n",
    "    beta0 = np.linspace(0,beta_max,n_data)\n",
    "\n",
    "\n",
    "\n",
    "\n",
    "    ll = np.zeros((n_data,n_data))\n",
    "    for i,B0 in enumerate(alpha0):\n",
    "        for j,B1 in enumerate(beta0):\n",
    "            ll[i,j] = -neg_likelihood([B0,B1],reward, action)\n",
    "\n",
    "\n",
    "    fig, ax = plt.subplots()\n",
    "\n",
    "    # We need to draw the canvas, otherwise the labels won't be positioned and \n",
    "    # won't have values yet.\n",
    "    fig.canvas.draw()\n",
    "\n",
    "    #labels_x = [item.get_text() for item in ax.get_xticklabels()]\n",
    "    labels_y = np.linspace(alpha_max,0, 6)\n",
    "\n",
    "\n",
    "\n",
    "    ax.set_yticklabels(labels_y)\n",
    "    labels_x = np.linspace(0,beta_max, 6)\n",
    "\n",
    "\n",
    "\n",
    "    ax.set_xticklabels(labels_x)\n",
    "\n",
    "\n",
    "\n",
    "    x = (alpha_max-res.x[0])/(alpha_max/(n_data-1))\n",
    "    y = res.x[1]/(beta_max/(n_data-1))\n",
    "\n",
    "    fig = plt.imshow(ll,cmap = 'hot',interpolation='none')\n",
    "    fig = plt.plot(y,x, 'bo')\n",
    "\n",
    "    fig = plt.xlim((0,n_data))\n",
    "    fig = plt.ylim((0,n_data))\n",
    "\n",
    "\n",
    "    plt.xlabel('beta')\n",
    "    plt.ylabel('alpha')\n",
    "    plt.title('log likelihood')\n",
    "\n",
    "    plt.colorbar()\n",
    "\n",
    "    plt.savefig(fig_name)\n",
    "    plt.show()\n"
   ]
  },
  {
   "cell_type": "code",
   "execution_count": 26,
   "metadata": {},
   "outputs": [
    {
     "name": "stdout",
     "output_type": "stream",
     "text": [
      "[  0.   5.  10.  15.  20.]\n"
     ]
    }
   ],
   "source": [
    "print labels_x\n"
   ]
  },
  {
   "cell_type": "code",
   "execution_count": 29,
   "metadata": {},
   "outputs": [
    {
     "data": {
      "text/plain": [
       "12.522449669001698"
      ]
     },
     "execution_count": 29,
     "metadata": {},
     "output_type": "execute_result"
    }
   ],
   "source": [
    "y*0.2\n"
   ]
  },
  {
   "cell_type": "code",
   "execution_count": 30,
   "metadata": {},
   "outputs": [
    {
     "data": {
      "text/plain": [
       "53.898932481236812"
      ]
     },
     "execution_count": 30,
     "metadata": {},
     "output_type": "execute_result"
    }
   ],
   "source": [
    "x"
   ]
  },
  {
   "cell_type": "code",
   "execution_count": null,
   "metadata": {
    "collapsed": true
   },
   "outputs": [],
   "source": []
  }
 ],
 "metadata": {
  "kernelspec": {
   "display_name": "Python [default]",
   "language": "python",
   "name": "python2"
  },
  "language_info": {
   "codemirror_mode": {
    "name": "ipython",
    "version": 2
   },
   "file_extension": ".py",
   "mimetype": "text/x-python",
   "name": "python",
   "nbconvert_exporter": "python",
   "pygments_lexer": "ipython2",
   "version": "2.7.13"
  }
 },
 "nbformat": 4,
 "nbformat_minor": 1
}
