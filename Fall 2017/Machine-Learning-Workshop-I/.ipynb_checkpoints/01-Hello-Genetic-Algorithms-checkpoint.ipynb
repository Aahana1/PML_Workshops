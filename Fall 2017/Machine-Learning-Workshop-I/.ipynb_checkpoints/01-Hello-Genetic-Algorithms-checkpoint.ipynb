{
 "cells": [
  {
   "cell_type": "markdown",
   "metadata": {
    "slideshow": {
     "slide_type": "slide"
    }
   },
   "source": [
    "# Hello Genetic Programming"
   ]
  },
  {
   "cell_type": "markdown",
   "metadata": {
    "slideshow": {
     "slide_type": "slide"
    }
   },
   "source": [
    "### Definitions \n",
    "\n",
    "- **Genetic Algorithms** (GA) are search algorithms that mimic the process of natural evolution (blah blah blah) where each individual is a candidate solution: individuals are generally raw data in whatever encoding format has been defined.\n",
    "\n",
    "- **Genetic Programming (GP)** is considered a special case of GA, where each individual is a computer program (not just raw data). GP explore the algorithmic search space and evolve computer programs to perform a defined task."
   ]
  },
  {
   "cell_type": "markdown",
   "metadata": {
    "slideshow": {
     "slide_type": "slide"
    }
   },
   "source": [
    "<hr/>\n",
    "<div class=\"container-fluid\">\n",
    "  <div class='well'>\n",
    "      <div class=\"row\">\n",
    "          <div class=\"col-md-12\" align='center'>\n",
    "              <img align='center'alt=“Genetic Programming“ style=\"border-width:0\" src=\"https://cdn-images-1.medium.com/max/1600/1*BYDJpa6M2rzWNSurvspf8Q.png\"/>\n",
    "          </div>\n",
    "      </div>\n",
    "  </div>\n",
    "</div>"
   ]
  },
  {
   "cell_type": "markdown",
   "metadata": {
    "slideshow": {
     "slide_type": "slide"
    }
   },
   "source": [
    "### Terms\n",
    "\n",
    " - **Mutation**: a mutation is a genetic operator used to maintain genetic diversity from one generation of a population of genetic algorithm chromosomes to the next. It is analogous to biological mutation. Mutation alters one or more gene values in a chromosome from its initial state. In mutation, the solution may change entirely from the previous solution. Hence GA can come to a better solution by using mutation. \n",
    " \n",
    " - **Crossover**: is a genetic operator used to vary the programming of a chromosome or chromosomes from one generation to the next. It is analogous to reproduction and biological crossover, upon which genetic algorithms are based. Crossover is a process of taking more than one parent solution and producing a child solution from them. \n",
    " \n",
    " - **Fitness**: the \"fitness\" is a function which takes a candidate solution to the problem as input and produces as output how “fit” our how “good” the solution is with respect to the problem in consideration."
   ]
  },
  {
   "cell_type": "markdown",
   "metadata": {
    "slideshow": {
     "slide_type": "slide"
    }
   },
   "source": [
    "### Pros\n",
    "\n",
    "- Faster (and lower memory requirements) than searching a very large search space.\n",
    "- Easy, in that if your candidate representation and fitness function are correct, a solution can be found without any explicit analytical work."
   ]
  },
  {
   "cell_type": "markdown",
   "metadata": {
    "slideshow": {
     "slide_type": "subslide"
    }
   },
   "source": [
    "### Caveats\n",
    "\n",
    "- GAs do not scale well with complexity (i.e. slow convergence towards solutions). \n",
    "- GAs may converge towards a local optima / minima, or even arbitrary points rather than the global optimum of the problem. Could be solved by using a different fitness function to explore the solution landscape, increasing the mutation rate or modifying the selection criterion. However, there is no known general solution to this problem (i.e. the “No Free Lunch Theorem”).\n",
    "- GAs are difficult to work with dynamic data sets.\n",
    "- GAs cannot effectively solve decision problems.\n",
    "- Depending on the problem, other optimization algorithms may be better suited to evaluating and converging towards a solution than GAs."
   ]
  },
  {
   "cell_type": "markdown",
   "metadata": {
    "slideshow": {
     "slide_type": "slide"
    }
   },
   "source": [
    "### Let's try to implement this in Python"
   ]
  },
  {
   "cell_type": "markdown",
   "metadata": {
    "collapsed": true,
    "slideshow": {
     "slide_type": "slide"
    }
   },
   "source": [
    "First, let's setup our imports:"
   ]
  },
  {
   "cell_type": "code",
   "execution_count": 1,
   "metadata": {
    "collapsed": true,
    "slideshow": {
     "slide_type": "fragment"
    }
   },
   "outputs": [],
   "source": [
    "import random\n",
    "import string\n",
    "from pprint import pprint\n",
    "from datetime import datetime\n",
    "\n",
    "\n",
    "POPULATION = 20\n",
    "\n",
    "\n",
    "# these are the characters which make up the \"DNA\" of our example\n",
    "GENES = string.letters + '!, '"
   ]
  },
  {
   "cell_type": "markdown",
   "metadata": {
    "collapsed": true,
    "slideshow": {
     "slide_type": "slide"
    }
   },
   "source": [
    "Just like in biological evolution, we're applying a fitness criterion - which in this case is lexicographical distance:"
   ]
  },
  {
   "cell_type": "code",
   "execution_count": 2,
   "metadata": {
    "collapsed": true,
    "slideshow": {
     "slide_type": "fragment"
    }
   },
   "outputs": [],
   "source": [
    "def calc_fitness(source, target):\n",
    "    # Compare the lexicographic distance between a source and the target\n",
    "    # and summate this difference squared.\n",
    "    fitval = 0\n",
    "    for i in xrange(len(source)):\n",
    "        fitval += (ord(target[i]) - ord(source[i])) ** 2\n",
    "    return fitval"
   ]
  },
  {
   "cell_type": "markdown",
   "metadata": {
    "slideshow": {
     "slide_type": "slide"
    }
   },
   "source": [
    "Similarly, we also need to mutate each individual and calculate their respective fitness:"
   ]
  },
  {
   "cell_type": "code",
   "execution_count": 3,
   "metadata": {
    "collapsed": true,
    "slideshow": {
     "slide_type": "fragment"
    }
   },
   "outputs": [],
   "source": [
    "def mutate(parent1, parent2, target):\n",
    "    child_dna = parent1['dna'][:]  # `child_dna` is a copy of `parent1` at this point\n",
    "\n",
    "    # now attempt cross-over\n",
    "    start = random.randint(0, len(parent2['dna']) - 1)\n",
    "    stop = random.randint(0, len(parent2['dna']) - 1)\n",
    "\n",
    "    # since we're using the indices to copy over parts of each parent we\n",
    "    # need the start to be less than stop. This condition ensures this by\n",
    "    # switching the positions.\n",
    "    if start > stop:\n",
    "        stop, start = start, stop\n",
    "    \n",
    "    # now copy over the relevant parts\n",
    "    child_dna[start:stop] = parent2['dna'][start:stop]\n",
    "\n",
    "    # now mutate one position\n",
    "    char_pos = random.randint(0, len(child_dna) - 1)\n",
    "    #child_dna[char_pos] = GENES[random.randint(0, len(GENES) -1)]\n",
    "    child_dna[char_pos] = chr(ord(child_dna[char_pos]) + random.randint(-1, 1))\n",
    "    child_fitness = calc_fitness(child_dna, target)\n",
    "    return {'dna': child_dna, 'fitness': child_fitness}"
   ]
  },
  {
   "cell_type": "markdown",
   "metadata": {
    "slideshow": {
     "slide_type": "slide"
    }
   },
   "source": [
    "Then, we need to determine how we select individuals from the pool for mating:"
   ]
  },
  {
   "cell_type": "code",
   "execution_count": 4,
   "metadata": {
    "collapsed": true,
    "slideshow": {
     "slide_type": "fragment"
    }
   },
   "outputs": [],
   "source": [
    "def random_parent(gene_pool):\n",
    "    # randomly chose a parent from the pool\n",
    "    index = random.randint(0, len(gene_pool)-1)\n",
    "    return gene_pool[index]\n",
    "\n",
    "\n",
    "# This is a convenience function to be used for displaying the details of a given \n",
    "# genetic pool at some generation.\n",
    "def print_gene_pool(gene_pool, generation):\n",
    "    for candidate in gene_pool:\n",
    "        print '%i %i %s' % (generation, \n",
    "                            candidate['fitness'], \n",
    "                            ''.join(candidate['dna']))\n",
    "    print\n"
   ]
  },
  {
   "cell_type": "markdown",
   "metadata": {
    "slideshow": {
     "slide_type": "slide"
    }
   },
   "source": [
    "Now we evolve the pool, mutating the individual members and selecting based on our fitness criterion:"
   ]
  },
  {
   "cell_type": "code",
   "execution_count": 6,
   "metadata": {
    "slideshow": {
     "slide_type": "fragment"
    }
   },
   "outputs": [],
   "source": [
    "random.seed(314159265)  # for reproducibility\n",
    "target = 'Hello, world!'\n",
    "\n",
    "# create a starting pool of dna\n",
    "gene_pool = list()\n",
    "for i in xrange(0, POPULATION):\n",
    "    dna = [random.choice(GENES) for g in xrange(0, len(target))]\n",
    "    fitness = calc_fitness(dna, target)\n",
    "    candidate = {'dna': dna, 'fitness': fitness}\n",
    "    gene_pool.append(candidate)\n",
    "\n",
    "    \n",
    "# Evolve the pool until one the candidates reaches the \n",
    "generation = 1\n",
    "silent = True\n",
    "fittest = list()\n",
    "while True:\n",
    "    # sort the gene pool by fitness in ascending order. This means that the\n",
    "    # 1st element (index 0) is always the fittest individual\n",
    "    gene_pool.sort(key=lambda candidate: candidate['fitness'])\n",
    "    fittest.append(gene_pool[0])\n",
    "    if not silent:\n",
    "        print_gene_pool(gene_pool, generation)\n",
    "\n",
    "    parent1 = random_parent(gene_pool)\n",
    "    parent2 = random_parent(gene_pool)\n",
    "\n",
    "    child = mutate(parent1, parent2, target)\n",
    "\n",
    "    # compare the fitness of the child relative to that of the pool\n",
    "    # and if the child's fitness is less than most unfit individual in the\n",
    "    # pool, it's added to the pool - i.e. genetic elitism.\n",
    "    if child['fitness'] < gene_pool[-1]['fitness']:\n",
    "        gene_pool[-1] = child\n",
    "\n",
    "    # terminate when we've reached the goal (fitness = 0)\n",
    "    if gene_pool[0]['fitness'] == 0:\n",
    "        break\n",
    "\n",
    "    generation += 1\n",
    "    \n",
    "# display the fittest individuals\n",
    "for generation, best in enumerate(fittest):\n",
    "    if not silent:\n",
    "        print generation+1, ''.join(best['dna']), best['fitness']"
   ]
  },
  {
   "cell_type": "markdown",
   "metadata": {
    "slideshow": {
     "slide_type": "slide"
    }
   },
   "source": [
    "# Activity: What happens when we etremify the genetic mutations?"
   ]
  },
  {
   "cell_type": "markdown",
   "metadata": {
    "slideshow": {
     "slide_type": "slide"
    }
   },
   "source": [
    "# Activity: What happens when we mutate more than one character?"
   ]
  },
  {
   "cell_type": "code",
   "execution_count": null,
   "metadata": {
    "collapsed": true,
    "slideshow": {
     "slide_type": "skip"
    }
   },
   "outputs": [],
   "source": []
  }
 ],
 "metadata": {
  "celltoolbar": "Slideshow",
  "kernelspec": {
   "display_name": "Python 3",
   "language": "python",
   "name": "python3"
  },
  "language_info": {
   "codemirror_mode": {
    "name": "ipython",
    "version": 3
   },
   "file_extension": ".py",
   "mimetype": "text/x-python",
   "name": "python",
   "nbconvert_exporter": "python",
   "pygments_lexer": "ipython3",
   "version": "3.5.2"
  }
 },
 "nbformat": 4,
 "nbformat_minor": 1
}
