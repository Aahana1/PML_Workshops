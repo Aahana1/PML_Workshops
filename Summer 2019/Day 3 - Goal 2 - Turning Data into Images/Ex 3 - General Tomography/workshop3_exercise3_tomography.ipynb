{
  "nbformat": 4,
  "nbformat_minor": 0,
  "metadata": {
    "colab": {
      "name": "workshop3_exercise3_tomography.ipynb",
      "version": "0.3.2",
      "provenance": [],
      "collapsed_sections": [],
      "toc_visible": true
    },
    "kernelspec": {
      "name": "python3",
      "display_name": "Python 3"
    }
  },
  "cells": [
    {
      "cell_type": "markdown",
      "metadata": {
        "id": "HS6XvyV1oUTH",
        "colab_type": "text"
      },
      "source": [
        "# Tomography\n",
        "## workshop 3 exercise 3\n",
        "\n",
        "**Tomography** is imaging by sections through the use of penetrating waves. The method is used in radiology, archaeology, biology, atmospheric science, geophysics, oceanography, materials science, astrophysics, and other areas of science. A device used in tomography is called a tomograph, while the image produced is a tomogram.\n",
        "\n",
        "In many cases, the production of these images is based on the mathematical procedure tomographic reconstruction. Many reconstruction algorithms exist. Most algorithms fall into one of two categories: filtered back projection (FBP) and iterative reconstruction (IR). FBP demands fewer computational resources, while IR generally produces fewer artifacts at a higher computing cost\n",
        "\n",
        "https://en.wikipedia.org/wiki/Tomography\n"
      ]
    },
    {
      "cell_type": "markdown",
      "metadata": {
        "id": "V2udX7PGsOnn",
        "colab_type": "text"
      },
      "source": [
        "<img src=https://upload.wikimedia.org/wikipedia/commons/thumb/2/2a/Sagittal_brain_MRI.jpg/220px-Sagittal_brain_MRI.jpg width=\"200\">\n",
        "<img src=https://upload.wikimedia.org/wikipedia/commons/thumb/3/3d/PET-MIPS-anim.gif/220px-PET-MIPS-anim.gif width=\"150\">\n",
        "<img src=https://4cy9nx1nwb4f3giw7x37lcaw-wpengine.netdna-ssl.com/wp-content/uploads/sites/10/2018/12/ctofbrainsh594606644_1341028-860x550.jpg width=\"353\">\n",
        "\n",
        "examples of Magnetic Resonance Imaging (MRI),  Positron Emission Tomography (PET), and Computed Tomography(CT)\n",
        "\n",
        "Tomography can be used to reconstruct individual 3D molecules using electron tomography\n",
        "\n",
        "<img src=https://www.researchgate.net/profile/Faisal_Mahmood11/publication/323506849/figure/fig9/AS:658272558276608@1533955816571/The-overall-process-of-cryo-electron-tomography-from-data-collection-forward-problem-to.png width=\"450\">"
      ]
    },
    {
      "cell_type": "markdown",
      "metadata": {
        "id": "Dx8h6wXZw-lf",
        "colab_type": "text"
      },
      "source": [
        "# Tomographic Reconstruction\n",
        "\n",
        "The task in all reconstruction cases is to estimate the distribution of a particular physical quantity in the object. For example:\n",
        "\n",
        "- CT: The distribution of linear attenuation coefficient in the slice being imaged.\n",
        "\n",
        "- Nuclear medicine: The distribution of the radiotracer administered to the patient in the slice being imaged.\n",
        "\n",
        "- Ultrasound diffraction tomography: the distribution of refractive index in the slice being imaged.\n",
        "\n",
        "The measurements made in each modality can be converted into samples of the **Radon transform** of the distribution that we wish to reconstruct.\n",
        "\n",
        "For example in CT, dividing the measured photon counts by the incident photon counts and taking the negative logarithm yields samples of the Radon transform of the linear attenuation map. \n",
        "\n",
        "The Radon transform and its inverse provide the mathematical basis for reconstructing tomographic images from measured projection or scattering data.\n",
        "\n",
        "**Radon Transform** - the integral transform which takes a function f defined on the plane to a function Rf defined on the (two-dimensional) space of lines in the plane, whose value at a particular line is equal to the line integral of the function over that line\n",
        "\n",
        "<img src=https://upload.wikimedia.org/wikipedia/commons/2/25/Radon_transform_projection.png width=\"400\">\n",
        "<img src=https://scikit-image.org/docs/dev/_images/sphx_glr_plot_radon_transform_001.png width=\"500\">\n",
        "\n",
        "The Radon transform of a distribution f(x, y) is given by\n",
        "\n",
        "$$g(t,\\theta)=\\int f(x,y) \\delta (xcos\\theta +ysin\\phi-t) dx dy$$\n",
        "\n",
        "where $\\delta$ is the dirac delta function and other variables are defined in the images below\n",
        "\n",
        "<img src=https://csdl-images.computer.org/mags/co/2016/01/figures/mco20160100591.gif width=\"300\">\n",
        "\n",
        "$g(t,\\theta)$ is often referred to as a **sinogram** because the Radon transform of an off-center point source is a sinusoid\n",
        "\n",
        "To enable computed tomography reconstruction of the object, several projections must be acquired, each of them corresponding to a different angle between the rays with respect to the object. A collection of projections at several angles is called a **sinogram**, which is a linear transform of the original image\n",
        "\n",
        "## Task of tomographic reconstruction\n",
        "\n",
        "find $f(x,y)$ given knowledge of $g(t,\\theta)$\n",
        "\n",
        "## Filtered Back Projection (FBP)\n",
        "\n",
        "backprojection operation in two-dimensions is defined as\n",
        "\n",
        "$$f_{BP}(x,y)=\\int g(xcos\\theta+ysin\\theta,\\theta) d\\theta$$\n",
        "\n",
        "where the measured sinogram reconstructs the image in space along the projection paths\n",
        "\n",
        "<img src=https://upload.wikimedia.org/wikipedia/commons/thumb/c/c7/SheppLogan_Phantom.svg/170px-SheppLogan_Phantom.svg.png width=\"300\">\n",
        "<img src=https://upload.wikimedia.org/wikipedia/commons/thumb/c/cd/Shepp_logan_radon.png/42px-Shepp_logan_radon.png width=\"74\">\n",
        "<img src=https://upload.wikimedia.org/wikipedia/commons/thumb/9/95/Shepp_logan_iradon.png/170px-Shepp_logan_iradon.png width=\"300\">\n",
        "\n",
        "original Shepp Logan Phantom, sinogram, and reconstructed backprojection\n",
        "\n",
        "A **ramp filter** is often applied to the sinogram during the reconstruction process to reduce noise. This is a high pass filter that does not permit low frequencies that cause blurring to appear in the image. It is a compensatory filter that eliminates the star artifact resulting from simple backprojection. "
      ]
    },
    {
      "cell_type": "markdown",
      "metadata": {
        "id": "iGsYULsCq-zk",
        "colab_type": "text"
      },
      "source": [
        "# Grid Reconstruction\n",
        "\n",
        "Here is an example on how to use TomoPy with the gridrec algorithm\n",
        "\n",
        "gridrec algorithm paper abstract:\n",
        "\n",
        "https://www.ncbi.nlm.nih.gov/pubmed/23093766\n",
        "\n",
        "Sub-second temporal-resolution tomographic microscopy is becoming a reality at third-generation synchrotron sources. Efficient data handling and post-processing is, however, difficult when the data rates are close to 10 GB s(-1). This bottleneck still hinders exploitation of the full potential inherent in the ultrafast acquisition speed. In this paper the fast reconstruction algorithm gridrec, highly optimized for conventional CPU technology, is presented. It is shown that gridrec is a valuable alternative to standard filtered back-projection routines, despite being based on the Fourier transform method. In fact, the regridding procedure used for resampling the Fourier space from polar to Cartesian coordinates couples excellent performance with negligible accuracy degradation. The stronger dependence of the observed signal-to-noise ratio for gridrec reconstructions on the number of angular views makes the presented algorithm even superior to filtered back-projection when the tomographic problem is well sampled. Gridrec not only guarantees high-quality results but it provides up to 20-fold performance increase, making real-time monitoring of the sub-second acquisition process a reality.\n",
        "\n",
        " - based on Fourier transform method\n",
        " - alternative to backprojection method\n",
        " - optimized for CPU usage"
      ]
    },
    {
      "cell_type": "markdown",
      "metadata": {
        "id": "rbfLk48U3m7W",
        "colab_type": "text"
      },
      "source": [
        "We first need to install a few necessary packages to help with tomographic reconstruction\n",
        "\n",
        "**TomoPy** is an open-source Python package for tomographic data processing and image reconstruction.\n",
        "\n",
        "Features:\n",
        "\n",
        " - Image reconstruction algorithms for tomography\n",
        " - Various filters, ring removal algorithms, phase retrieval algorithms\n",
        " - Forward projection operator for absorption and wave propagation\n",
        "\n",
        "**DXchange** provides an interface with tomoPy and raw tomographic data collected at different synchrotron facilities including the Data Exchange file format (DXfile), currently in use at the Advanced Photon Source beamline 2-BM and 32-ID, at the Swiss Light Source Tomcat beamline and at the Elettra SYRMEP beamline\n",
        "\n",
        "Features:\n",
        " - Readers for tomographic data files collected at different facilities\n",
        " - Writers for different file formats"
      ]
    },
    {
      "cell_type": "code",
      "metadata": {
        "id": "QIOeRryTLSIw",
        "colab_type": "code",
        "colab": {}
      },
      "source": [
        "# Run this cell immediately - taks approximately 10 minutes to run\n",
        "# tomopy and dxchange are easier to install in anaconda (conda install tomopy, conda install dxchange)\n",
        "\n",
        "!wget -c https://repo.continuum.io/archive/Anaconda3-5.1.0-Linux-x86_64.sh\n",
        "!chmod +x Anaconda3-5.1.0-Linux-x86_64.sh\n",
        "!bash ./Anaconda3-5.1.0-Linux-x86_64.sh -b -f -p /usr/local\n",
        "\n",
        "!conda install -y --prefix /usr/local -c conda-forge dxchange\n",
        "!conda install -y --prefix /usr/local -c conda-forge tomopy"
      ],
      "execution_count": 0,
      "outputs": []
    },
    {
      "cell_type": "code",
      "metadata": {
        "id": "7QwJLfsZ1mNE",
        "colab_type": "code",
        "colab": {}
      },
      "source": [
        "import sys\n",
        "sys.path.append('/usr/local/lib/python3.6/site-packages')\n",
        "import matplotlib.pyplot as plt\n",
        "import tomopy\n",
        "import dxchange\n",
        "\n",
        "%matplotlib inline"
      ],
      "execution_count": 0,
      "outputs": []
    },
    {
      "cell_type": "markdown",
      "metadata": {
        "id": "RNrEwZrJ4jT2",
        "colab_type": "text"
      },
      "source": [
        "The data set file to be used in theis example has the file format that follows the APS beamline 2-BM and 32-ID definition."
      ]
    },
    {
      "cell_type": "code",
      "metadata": {
        "id": "UPMMVWM84Tyc",
        "colab_type": "code",
        "colab": {}
      },
      "source": [
        "# get an exmaple .h5 file from the tomopy github page\n",
        "!git clone https://github.com/tomopy/tomopy.git\n",
        "\n",
        "# location of the example .h5 file\n",
        "fname = '/content/tomopy/source/tomopy/data/tooth.h5'"
      ],
      "execution_count": 0,
      "outputs": []
    },
    {
      "cell_type": "markdown",
      "metadata": {
        "id": "S7jar3hY5UG2",
        "colab_type": "text"
      },
      "source": [
        "read the aps data using dxchange.read\n",
        "\n",
        "Returns:\n",
        " - ndarray – 3D tomographic data.\n",
        " - ndarray – 3D flat field data (correcting anomalies in data)\n",
        " - ndarray – 3D dark field data.\n",
        " - ndarray – 1D theta in radian.\n",
        " \n",
        "**flat field correction** - is a technique used to improve quality in digital imaging. The goal is to remove artifacts from 2-D images that are caused by variations in the pixel-to-pixel sensitivity of the detector and/or by distortions in the optical path. It is a standard calibration procedure in everything from pocket digital cameras to giant telescopes.\n",
        "\n",
        "The flat field frame is an image of a uniformly illuminated field. Since this flat contains the variations in illumination due to variations within the optial system, dividing the desired measured image by the normalised flat filed frame will correct the image for these variations.\n",
        "\n",
        "**dark field** - pixel intensity to be removed due to inherent signal coming from the detector without any source signal."
      ]
    },
    {
      "cell_type": "code",
      "metadata": {
        "id": "2kqPfjQK5cBM",
        "colab_type": "code",
        "colab": {}
      },
      "source": [
        "# select the sinogram range to reconstruct\n",
        "start = 0\n",
        "end = 2\n",
        "\n",
        "proj, flat, dark, theta = dxchange.read_aps_32id(fname, sino=(start, end))\n",
        "\n",
        "# plot the sinogram\n",
        "plt.imshow(proj[:, 0, :], cmap='Greys_r')"
      ],
      "execution_count": 0,
      "outputs": []
    },
    {
      "cell_type": "markdown",
      "metadata": {
        "id": "TqKeV3cZDtDW",
        "colab_type": "text"
      },
      "source": [
        "If the angular information is not avaialable from the raw data you need to set the data collection angles. In this case theta is set as equally spaced between 0-180 degrees."
      ]
    },
    {
      "cell_type": "code",
      "metadata": {
        "id": "jzu7oAM4DRTr",
        "colab_type": "code",
        "colab": {}
      },
      "source": [
        "# set the data collection angles as equally spaced betwen 0-180 degrees\n",
        "if (theta is None):\n",
        "    theta = tomopy.angles(proj.shape[0])\n",
        "else:\n",
        "    pass"
      ],
      "execution_count": 0,
      "outputs": []
    },
    {
      "cell_type": "markdown",
      "metadata": {
        "id": "4d4dd8XL3IcW",
        "colab_type": "text"
      },
      "source": [
        "Flat-field correction of raw data: $$ \\frac{proj - dark} {flat - dark} $$"
      ]
    },
    {
      "cell_type": "code",
      "metadata": {
        "id": "NBgDt9Y-3Juw",
        "colab_type": "code",
        "colab": {}
      },
      "source": [
        "# perform the flat-field correctoin of the raw data\n",
        "proj = tomopy.normalize(proj, flat, dark)"
      ],
      "execution_count": 0,
      "outputs": []
    },
    {
      "cell_type": "markdown",
      "metadata": {
        "id": "sWgCcNiv322H",
        "colab_type": "text"
      },
      "source": [
        "## Rotation Axis\n",
        "\n",
        "The detector and wave source rotate about an axis. This must be known to reconstruct the image from the sinogram.\n",
        "\n",
        "<img src=https://www.physicscentral.com/explore/action/images/scans-img2.gif width=\"450\">\n",
        "\n"
      ]
    },
    {
      "cell_type": "code",
      "metadata": {
        "id": "qElJ2tyL36kt",
        "colab_type": "code",
        "colab": {}
      },
      "source": [
        "# find the rotation axis location\n",
        "rot_center = tomopy.find_center(proj, theta, init=290, ind=0, tol=0.5)"
      ],
      "execution_count": 0,
      "outputs": []
    },
    {
      "cell_type": "markdown",
      "metadata": {
        "id": "WRDP_kSf5bK3",
        "colab_type": "text"
      },
      "source": [
        "For x-ray data the logarithm must be taken of each measurement. This is because x-rays decrease in intensity exponentially as they pass through material. Taking the logarithm provides a signal that is linearly related to the characteristics of the material being measured. Other preprocessing steps are used to compensate for the use of polychromatic (more than one energy) x-rays, and multielement detectors."
      ]
    },
    {
      "cell_type": "code",
      "metadata": {
        "id": "f8dFtR7u5aQ0",
        "colab_type": "code",
        "colab": {}
      },
      "source": [
        "# calculate -log(proj)\n",
        "proj = tomopy.minus_log(proj)"
      ],
      "execution_count": 0,
      "outputs": []
    },
    {
      "cell_type": "markdown",
      "metadata": {
        "id": "CIuSklo35z0u",
        "colab_type": "text"
      },
      "source": [
        "## Grid Reconstruction\n",
        "\n",
        "gridrec algorithm paper:\n",
        "\n",
        "https://www.ncbi.nlm.nih.gov/pubmed/23093766"
      ]
    },
    {
      "cell_type": "code",
      "metadata": {
        "id": "nctCH1H15yaP",
        "colab_type": "code",
        "colab": {}
      },
      "source": [
        "# perform the gridrec reconstruction algorithm\n",
        "recon = tomopy.recon(proj, theta, center=rot_center, algorithm='gridrec')"
      ],
      "execution_count": 0,
      "outputs": []
    },
    {
      "cell_type": "markdown",
      "metadata": {
        "id": "asIeffLP6DtD",
        "colab_type": "text"
      },
      "source": [
        "## Viewing the reconstruction"
      ]
    },
    {
      "cell_type": "code",
      "metadata": {
        "id": "5T1Zbmns6BRd",
        "colab_type": "code",
        "colab": {}
      },
      "source": [
        "# mask each reconstructed slice with a circle\n",
        "recon = tomopy.circ_mask(recon, axis=0, ratio=0.95)\n",
        "\n",
        "# view the reconstructed image\n",
        "plt.imshow(recon[0, :,:], cmap='Greys_r')"
      ],
      "execution_count": 0,
      "outputs": []
    },
    {
      "cell_type": "markdown",
      "metadata": {
        "id": "aFGBJUPQrHt5",
        "colab_type": "text"
      },
      "source": [
        "# Example with scikit-image\n",
        "\n",
        "example from https://scikit-image.org/docs/dev/auto_examples/transform/plot_radon_transform.html\n",
        "\n",
        "This script performs the Radon transform to simulate a tomography experiment and reconstructs the input image based on the resulting sinogram formed by the simulation. Two methods for performing the inverse Radon transform and reconstructing the original image are compared: The Filtered Back Projection (FBP) and the Simultaneous Algebraic Reconstruction Technique (SART)\n",
        "\n",
        "##The forward transform\n",
        "\n",
        "As our original image, we will use the Shepp-Logan phantom. When calculating the Radon transform, we need to decide how many projection angles we wish to use. As a rule of thumb, the number of projections should be about the same as the number of pixels there are across the object (to see why this is so, consider how many unknown pixel values must be determined in the reconstruction process and compare this to the number of measurements provided by the projections). Below is the original image and its Radon transform, often known as its sinogram:"
      ]
    },
    {
      "cell_type": "code",
      "metadata": {
        "id": "JEaOXMXfHq8F",
        "colab_type": "code",
        "colab": {}
      },
      "source": [
        "import numpy as np\n",
        "import matplotlib.pyplot as plt\n",
        "\n",
        "from skimage.io import imread\n",
        "from skimage.transform import radon, rescale, resize\n",
        "from skimage.color import rgb2gray\n",
        "\n",
        "# read in the Shepp Logan Phantom image from a url\n",
        "image = imread('https://upload.wikimedia.org/wikipedia/commons/thumb/c/c7/SheppLogan_Phantom.svg/220px-SheppLogan_Phantom.svg.png')\n",
        "\n",
        "# convert to grayscale\n",
        "image = rgb2gray(image)\n",
        "\n",
        "# create the sinogram from the image (in an experiment we would measure the \n",
        "# sinogram, but here we create it from an image)\n",
        "theta = np.linspace(0., 180., max(image.shape), endpoint=False)\n",
        "sinogram = radon(image, theta=theta, circle=True)\n",
        "\n",
        "# plot the image and the sinogram\n",
        "fig, (ax1, ax2) = plt.subplots(1, 2, figsize=(8, 4.5))\n",
        "ax1.set_title(\"Original\")\n",
        "ax1.imshow(image, cmap=plt.cm.Greys_r)\n",
        "ax2.set_title(\"Radon transform\\n(Sinogram)\")\n",
        "ax2.set_xlabel(\"Projection angle (deg)\")\n",
        "ax2.set_ylabel(\"Projection position (pixels)\")\n",
        "ax2.imshow(sinogram, cmap=plt.cm.Greys_r,\n",
        "           extent=(0, 180, 0, sinogram.shape[0]), aspect='auto')\n",
        "\n",
        "fig.tight_layout()\n",
        "plt.show()"
      ],
      "execution_count": 0,
      "outputs": []
    },
    {
      "cell_type": "markdown",
      "metadata": {
        "id": "ZK_qKTY1Umhz",
        "colab_type": "text"
      },
      "source": [
        "## Reconstruction with the Filtered Back Projection (FBP)\n",
        "\n",
        "The mathematical foundation of the filtered back projection is the Fourier slice theorem. It uses Fourier transform of the projection and interpolation in Fourier space to obtain the 2D Fourier transform of the image, which is then inverted to form the reconstructed image. The filtered back projection is among the fastest methods of performing the inverse Radon transform. \n",
        "\n",
        "The only tunable parameter for the FBP is the filter, which is applied to the Fourier transformed projections. It may be used to suppress high frequency noise in the reconstruction. skimage provides a few different options for the filter."
      ]
    },
    {
      "cell_type": "code",
      "metadata": {
        "id": "gpjLqYwuIn-j",
        "colab_type": "code",
        "colab": {}
      },
      "source": [
        "from skimage.transform import iradon\n",
        "\n",
        "# perform the reconstruction using the skimage iradon function\n",
        "reconstruction_fbp = iradon(sinogram, theta=theta, circle=True)\n",
        "\n",
        "# get the error by taking the difference from the original image and the reconstruction\n",
        "error = reconstruction_fbp - image\n",
        "print('FBP rms reconstruction error: %.3g' % np.sqrt(np.mean(error**2)))"
      ],
      "execution_count": 0,
      "outputs": []
    },
    {
      "cell_type": "code",
      "metadata": {
        "id": "0R9Wwe0yV35Y",
        "colab_type": "code",
        "colab": {}
      },
      "source": [
        "# plot the reconstructed image and the error image\n",
        "fig, (ax1, ax2) = plt.subplots(1, 2, figsize=(8, 4.5),sharex=True, sharey=True)\n",
        "ax1.set_title(\"Reconstruction\\nFiltered back projection\")\n",
        "ax1.imshow(reconstruction_fbp, cmap=plt.cm.Greys_r)\n",
        "ax2.set_title(\"Reconstruction error\\nFiltered back projection\")\n",
        "ax2.imshow(reconstruction_fbp - image, cmap=plt.cm.Greys_r, **imkwargs)\n",
        "plt.show()"
      ],
      "execution_count": 0,
      "outputs": []
    },
    {
      "cell_type": "markdown",
      "metadata": {
        "id": "9vEsP7HDWARx",
        "colab_type": "text"
      },
      "source": [
        "## Reconstruction with the Simultaneous Algebraic Reconstruction Technique\n",
        "\n",
        "Algebraic reconstruction techniques for tomography are based on a straightforward idea: for a pixelated image the value of a single ray in a particular projection is simply a sum of all the pixels the ray passes through on its way through the object. This is a way of expressing the forward Radon transform. The inverse Radon transform can then be formulated as a (large) set of linear equations. As each ray passes through a small fraction of the pixels in the image, this set of equations is sparse, allowing iterative solvers for sparse linear systems to tackle the system of equations. One iterative method has been particularly popular, namely Kaczmarz’ method 3, which has the property that the solution will approach a least-squares solution of the equation set.\n",
        "\n",
        "The combination of the formulation of the reconstruction problem as a set of linear equations and an iterative solver makes algebraic techniques relatively flexible, hence some forms of prior knowledge can be incorporated with relative ease.\n",
        "\n",
        "skimage provides one of the more popular variations of the algebraic reconstruction techniques: the Simultaneous Algebraic Reconstruction Technique (SART). It uses Kaczmarz’ method 3 as the iterative solver. A good reconstruction is normally obtained in a single iteration, making the method computationally effective. Running one or more extra iterations will normally improve the reconstruction of sharp, high frequency features and reduce the mean squared error at the expense of increased high frequency noise (the user will need to decide on what number of iterations is best suited to the problem at hand. The implementation in skimage allows prior information of the form of a lower and upper threshold on the reconstructed values to be supplied to the reconstruction."
      ]
    },
    {
      "cell_type": "code",
      "metadata": {
        "id": "HZkIoMFMVTYa",
        "colab_type": "code",
        "colab": {}
      },
      "source": [
        "from skimage.transform import iradon_sart\n",
        "\n",
        "# perform the reconstruction using the Simultaneous Algebraic Reconstruction Technique (SART)\n",
        "reconstruction_sart = iradon_sart(sinogram, theta=theta)\n",
        "\n",
        "# determine the error from the difference of the original and reconstructed image\n",
        "error = reconstruction_sart - image\n",
        "print('SART (1 iteration) rms reconstruction error: %.3g'\n",
        "      % np.sqrt(np.mean(error**2)))\n",
        "\n",
        "# Run a second iteration of SART by supplying the reconstruction\n",
        "# from the first iteration as an initial estimate\n",
        "reconstruction_sart2 = iradon_sart(sinogram, theta=theta,image=reconstruction_sart)\n",
        "error = reconstruction_sart2 - image\n",
        "print('SART (2 iterations) rms reconstruction error: %.3g'\n",
        "      % np.sqrt(np.mean(error**2)))\n",
        "\n",
        "# Run a third iteration of SART by supplying the reconstruction\n",
        "# from the second iteration as an initial estimate\n",
        "reconstruction_sart3 = iradon_sart(sinogram, theta=theta,image=reconstruction_sart2)\n",
        "error = reconstruction_sart2 - image\n",
        "print('SART (3 iterations) rms reconstruction error: %.3g'\n",
        "      % np.sqrt(np.mean(error**2)))"
      ],
      "execution_count": 0,
      "outputs": []
    },
    {
      "cell_type": "code",
      "metadata": {
        "id": "wVmKXUdiXpGK",
        "colab_type": "code",
        "colab": {}
      },
      "source": [
        "# plot the reconstruction images and the error images\n",
        "fig, axes = plt.subplots(2, 2, figsize=(8, 8.5), sharex=True, sharey=True)\n",
        "ax = axes.ravel()\n",
        "\n",
        "ax[0].set_title(\"Reconstruction\\nSART, 1 iteration\")\n",
        "ax[0].imshow(reconstruction_sart, cmap=plt.cm.Greys_r)\n",
        "\n",
        "ax[1].set_title(\"Reconstruction error\\nSART, 1 iteration\")\n",
        "ax[1].imshow(reconstruction_sart - image, cmap=plt.cm.Greys_r, **imkwargs)\n",
        "\n",
        "ax[2].set_title(\"Reconstruction\\nSART, 3 iterations\")\n",
        "ax[2].imshow(reconstruction_sart3, cmap=plt.cm.Greys_r)\n",
        "\n",
        "ax[3].set_title(\"Reconstruction error\\nSART, 3 iterations\")\n",
        "ax[3].imshow(reconstruction_sart3 - image, cmap=plt.cm.Greys_r, **imkwargs)\n",
        "plt.show()"
      ],
      "execution_count": 0,
      "outputs": []
    }
  ]
}