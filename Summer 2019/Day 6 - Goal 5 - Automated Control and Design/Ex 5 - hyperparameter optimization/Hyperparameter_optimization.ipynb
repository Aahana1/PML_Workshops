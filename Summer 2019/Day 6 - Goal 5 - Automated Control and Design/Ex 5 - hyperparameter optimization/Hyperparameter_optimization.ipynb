{
  "nbformat": 4,
  "nbformat_minor": 0,
  "metadata": {
    "colab": {
      "name": "Hyperparameter optimization.ipynb",
      "version": "0.3.2",
      "provenance": [],
      "collapsed_sections": []
    },
    "kernelspec": {
      "name": "python3",
      "display_name": "Python 3"
    }
  },
  "cells": [
    {
      "cell_type": "markdown",
      "metadata": {
        "id": "4_01wEi_Krh1",
        "colab_type": "text"
      },
      "source": [
        "https://medium.com/@mikkokotila/a-comprehensive-list-of-hyperparameter-optimization-tuning-solutions-88e067f19d9\n",
        "\n",
        "https://towardsdatascience.com/hyperparameter-optimization-in-python-part-0-introduction-c4b66791614b"
      ]
    },
    {
      "cell_type": "markdown",
      "metadata": {
        "id": "3L5kXuQdFUAr",
        "colab_type": "text"
      },
      "source": [
        "# Sklearn and keras built in hyperparameter optimization\n",
        "\n",
        "https://scikit-learn.org/stable/auto_examples/model_selection/plot_randomized_search.html#sphx-glr-auto-examples-model-selection-plot-randomized-search-py\n",
        "\n",
        "https://github.com/scikit-optimize/scikit-optimize"
      ]
    },
    {
      "cell_type": "markdown",
      "metadata": {
        "id": "1Rxl3AoV4taq",
        "colab_type": "text"
      },
      "source": [
        "# Tuning a scikit-learn estimator with `skopt`\n",
        "\n",
        "Gilles Louppe, July 2016 <br />\n",
        "Katie Malone, August 2016\n",
        "\n",
        "If you are looking for a `GridSearchCV` replacement checkout [the `BayesSearchCV` example](sklearn-gridsearchcv-replacement.ipynb) instead."
      ]
    },
    {
      "cell_type": "code",
      "metadata": {
        "id": "ZVbMUWc8Pxo3",
        "colab_type": "code",
        "outputId": "1aafd4ff-064c-4472-cb87-c4e59eb11c90",
        "colab": {
          "base_uri": "https://localhost:8080/",
          "height": 181
        }
      },
      "source": [
        "!pip install scikit-optimize"
      ],
      "execution_count": 0,
      "outputs": [
        {
          "output_type": "stream",
          "text": [
            "Collecting scikit-optimize\n",
            "\u001b[?25l  Downloading https://files.pythonhosted.org/packages/f4/44/60f82c97d1caa98752c7da2c1681cab5c7a390a0fdd3a55fac672b321cac/scikit_optimize-0.5.2-py2.py3-none-any.whl (74kB)\n",
            "\u001b[K     |████████████████████████████████| 81kB 3.1MB/s \n",
            "\u001b[?25hRequirement already satisfied: scipy>=0.14.0 in /usr/local/lib/python3.6/dist-packages (from scikit-optimize) (1.3.1)\n",
            "Requirement already satisfied: numpy in /usr/local/lib/python3.6/dist-packages (from scikit-optimize) (1.16.4)\n",
            "Requirement already satisfied: scikit-learn>=0.19.1 in /usr/local/lib/python3.6/dist-packages (from scikit-optimize) (0.21.3)\n",
            "Requirement already satisfied: joblib>=0.11 in /usr/local/lib/python3.6/dist-packages (from scikit-learn>=0.19.1->scikit-optimize) (0.13.2)\n",
            "Installing collected packages: scikit-optimize\n",
            "Successfully installed scikit-optimize-0.5.2\n"
          ],
          "name": "stdout"
        }
      ]
    },
    {
      "cell_type": "code",
      "metadata": {
        "id": "99vKGaJL4tas",
        "colab_type": "code",
        "colab": {}
      },
      "source": [
        "%matplotlib inline\n",
        "import numpy as np\n",
        "import matplotlib.pyplot as plt"
      ],
      "execution_count": 0,
      "outputs": []
    },
    {
      "cell_type": "markdown",
      "metadata": {
        "id": "68g9JxqH4taw",
        "colab_type": "text"
      },
      "source": [
        "## Problem statement\n",
        "\n",
        "Tuning the hyper-parameters of a machine learning model is often carried out using an exhaustive exploration of (a subset of) the space all hyper-parameter configurations (e.g., using `sklearn.model_selection.GridSearchCV`), which often results in a very time consuming operation. \n",
        "\n",
        "In this notebook, we illustrate how to couple `gp_minimize` with sklearn's estimators to tune hyper-parameters using sequential model-based optimisation, hopefully resulting in equivalent or better solutions, but within less evaluations. \n",
        "\n",
        "Note: scikit-optimize provides a dedicated interface for estimator tuning via `BayesSearchCV` class which has a similar interface to those of `GridSearchCV`. This class uses functions of skopt to perform hyperparameter search efficiently. For example usage of this class, see [the `BayesSearchCV` example](sklearn-gridsearchcv-replacement.ipynb) example notebook."
      ]
    },
    {
      "cell_type": "markdown",
      "metadata": {
        "id": "59gcXhP74tax",
        "colab_type": "text"
      },
      "source": [
        "## Objective "
      ]
    },
    {
      "cell_type": "markdown",
      "metadata": {
        "id": "mvhTswvH4tay",
        "colab_type": "text"
      },
      "source": [
        "To tune the hyper-parameters of our model we need to define a model, decide which parameters to optimize, and define the objective function we want to minimize."
      ]
    },
    {
      "cell_type": "code",
      "metadata": {
        "id": "5lQbm0dj4taz",
        "colab_type": "code",
        "colab": {}
      },
      "source": [
        "from sklearn.datasets import load_boston\n",
        "from sklearn.ensemble import GradientBoostingRegressor\n",
        "from sklearn.model_selection import cross_val_score\n",
        "\n",
        "boston = load_boston()\n",
        "X, y = boston.data, boston.target\n",
        "n_features = X.shape[1]\n",
        "\n",
        "# gradient boosted trees tend to do well on problems like this\n",
        "reg = GradientBoostingRegressor(n_estimators=50, random_state=0)"
      ],
      "execution_count": 0,
      "outputs": []
    },
    {
      "cell_type": "markdown",
      "metadata": {
        "id": "nH75Gl_q4ta3",
        "colab_type": "text"
      },
      "source": [
        "Next, we need to define the bounds of the dimensions of the search space we want to explore and pick the objective. In this case the cross-validation mean absolute error of a gradient boosting regressor over the Boston dataset, as a function of its hyper-parameters."
      ]
    },
    {
      "cell_type": "code",
      "metadata": {
        "id": "z3NGKujv4ta4",
        "colab_type": "code",
        "outputId": "954c5f0a-a58e-4d88-fbd1-7fecc0cf292c",
        "colab": {
          "base_uri": "https://localhost:8080/",
          "height": 74
        }
      },
      "source": [
        "from skopt.space import Real, Integer\n",
        "from skopt.utils import use_named_args\n",
        "\n",
        "\n",
        "# The list of hyper-parameters we want to optimize. For each one we define the bounds,\n",
        "# the corresponding scikit-learn parameter name, as well as how to sample values\n",
        "# from that dimension (`'log-uniform'` for the learning rate)\n",
        "space  = [Integer(1, 5, name='max_depth'),\n",
        "          Real(10**-5, 10**0, \"log-uniform\", name='learning_rate'),\n",
        "          Integer(1, n_features, name='max_features'),\n",
        "          Integer(2, 100, name='min_samples_split'),\n",
        "          Integer(1, 100, name='min_samples_leaf')]\n",
        "\n",
        "# this decorator allows your objective function to receive a the parameters as\n",
        "# keyword arguments. This is particularly convenient when you want to set scikit-learn\n",
        "# estimator parameters\n",
        "@use_named_args(space)\n",
        "def objective(**params):\n",
        "    reg.set_params(**params)\n",
        "\n",
        "    return -np.mean(cross_val_score(reg, X, y, cv=5, n_jobs=-1,\n",
        "                                    scoring=\"neg_mean_absolute_error\"))"
      ],
      "execution_count": 0,
      "outputs": [
        {
          "output_type": "stream",
          "text": [
            "/usr/local/lib/python3.6/dist-packages/sklearn/externals/joblib/__init__.py:15: DeprecationWarning: sklearn.externals.joblib is deprecated in 0.21 and will be removed in 0.23. Please import this functionality directly from joblib, which can be installed with: pip install joblib. If this warning is raised when loading pickled models, you may need to re-serialize those models with scikit-learn 0.21+.\n",
            "  warnings.warn(msg, category=DeprecationWarning)\n"
          ],
          "name": "stderr"
        }
      ]
    },
    {
      "cell_type": "markdown",
      "metadata": {
        "id": "PaRGtRmS4ta8",
        "colab_type": "text"
      },
      "source": [
        "## Optimize all the things!"
      ]
    },
    {
      "cell_type": "markdown",
      "metadata": {
        "id": "iym3Q5k74ta9",
        "colab_type": "text"
      },
      "source": [
        "With these two pieces, we are now ready for sequential model-based optimisation. Here we use gaussian process-based optimisation."
      ]
    },
    {
      "cell_type": "code",
      "metadata": {
        "id": "CzmSnQMe4ta-",
        "colab_type": "code",
        "outputId": "e9d4537b-bd92-4185-eea9-1bd565622f56",
        "colab": {
          "base_uri": "https://localhost:8080/",
          "height": 90
        }
      },
      "source": [
        "\n",
        "from skopt import gp_minimize, forest_minimize, dummy_minimize\n",
        "res_gp = gp_minimize(objective, space, n_calls=50, random_state=0)\n",
        "\n",
        "n_calls=50\n",
        "\n",
        "\n",
        "# Random search\n",
        "dummy_res = dummy_minimize(objective, space, n_calls=n_calls, random_state=0) \n",
        "print(\"Random search Best score=%.4f\" % dummy_res.fun)\n",
        "\n",
        "# Gaussian processes\n",
        "gp_res = gp_minimize(objective, space, n_calls=n_calls, random_state=0) \n",
        "print(\"Gaussian Process Best score=%.4f\" % gp_res.fun)\n",
        "\n",
        "# Random forest\n",
        "rf_res = forest_minimize(objective, space, n_calls=n_calls, random_state=0, base_estimator=\"RF\") \n",
        "print(\"Random forest Best score=%.4f\" % rf_res.fun)\n",
        "\n",
        "# Extra trees \n",
        "et_res = forest_minimize(objective, space, n_calls=n_calls, random_state=0, base_estimator=\"ET\") \n",
        "print(\"Extra trees Best score=%.4f\" % et_res.fun)\n",
        "\n"
      ],
      "execution_count": 0,
      "outputs": [
        {
          "output_type": "stream",
          "text": [
            "Random search Best score=3.0747\n",
            "Gaussian Process Best score=2.9453\n",
            "Random forest Best score=2.7968\n",
            "Extra trees Best score=2.9473\n"
          ],
          "name": "stdout"
        }
      ]
    },
    {
      "cell_type": "code",
      "metadata": {
        "id": "Preb-8iP4tbF",
        "colab_type": "code",
        "outputId": "bdbc4d2f-1cd9-41a4-aaa0-795569072e57",
        "colab": {
          "base_uri": "https://localhost:8080/",
          "height": 454
        }
      },
      "source": [
        "print(\"\"\"Random search Best parameters:\n",
        "- max_depth=%d\n",
        "- learning_rate=%.6f\n",
        "- max_features=%d\n",
        "- min_samples_split=%d\n",
        "- min_samples_leaf=%d\"\"\" % (dummy_res.x[0], dummy_res.x[1], \n",
        "                            dummy_res.x[2], dummy_res.x[3], \n",
        "                            dummy_res.x[4]))\n",
        "\n",
        "print(\"\"\"Gaussian Process Best parameters:\n",
        "- max_depth=%d\n",
        "- learning_rate=%.6f\n",
        "- max_features=%d\n",
        "- min_samples_split=%d\n",
        "- min_samples_leaf=%d\"\"\" % (gp_res.x[0], gp_res.x[1], \n",
        "                            gp_res.x[2], gp_res.x[3], \n",
        "                            gp_res.x[4]))\n",
        "\n",
        "print(\"\"\"Random forest Best parameters:\n",
        "- max_depth=%d\n",
        "- learning_rate=%.6f\n",
        "- max_features=%d\n",
        "- min_samples_split=%d\n",
        "- min_samples_leaf=%d\"\"\" % (rf_res.x[0], rf_res.x[1], \n",
        "                            rf_res.x[2], rf_res.x[3], \n",
        "                            rf_res.x[4]))\n",
        "\n",
        "print(\"\"\"Extra trees Best parameters:\n",
        "- max_depth=%d\n",
        "- learning_rate=%.6f\n",
        "- max_features=%d\n",
        "- min_samples_split=%d\n",
        "- min_samples_leaf=%d\"\"\" % (et_res.x[0], et_res.x[1], \n",
        "                            et_res.x[2], et_res.x[3], \n",
        "                            et_res.x[4]))\n",
        "\n"
      ],
      "execution_count": 0,
      "outputs": [
        {
          "output_type": "stream",
          "text": [
            "Random search Best parameters:\n",
            "- max_depth=5\n",
            "- learning_rate=0.443079\n",
            "- max_features=12\n",
            "- min_samples_split=13\n",
            "- min_samples_leaf=3\n",
            "Gaussian Process Best parameters:\n",
            "- max_depth=5\n",
            "- learning_rate=0.106481\n",
            "- max_features=11\n",
            "- min_samples_split=100\n",
            "- min_samples_leaf=1\n",
            "Random forest Best parameters:\n",
            "- max_depth=5\n",
            "- learning_rate=0.124496\n",
            "- max_features=6\n",
            "- min_samples_split=3\n",
            "- min_samples_leaf=3\n",
            "Extra trees Best parameters:\n",
            "- max_depth=3\n",
            "- learning_rate=0.204367\n",
            "- max_features=13\n",
            "- min_samples_split=51\n",
            "- min_samples_leaf=2\n"
          ],
          "name": "stdout"
        }
      ]
    },
    {
      "cell_type": "markdown",
      "metadata": {
        "id": "nGH7XwKU4tbH",
        "colab_type": "text"
      },
      "source": [
        "## Convergence plot"
      ]
    },
    {
      "cell_type": "code",
      "metadata": {
        "id": "SZh5GkH94tbI",
        "colab_type": "code",
        "outputId": "751c1ee7-bb87-4c81-fd2e-57dcfcb55375",
        "colab": {
          "base_uri": "https://localhost:8080/",
          "height": 297
        }
      },
      "source": [
        "from skopt.plots import plot_convergence\n",
        "\n",
        "\n",
        "plot = plot_convergence((\"dummy_minimize\", dummy_res),\n",
        "                        (\"gp_minimize\", gp_res),\n",
        "                        (\"forest_minimize('rf')\", rf_res),\n",
        "                        (\"forest_minimize('et)\", et_res))\n",
        "plot.legend(loc=\"best\", prop={'size': 6}, numpoints=1);"
      ],
      "execution_count": 0,
      "outputs": [
        {
          "output_type": "display_data",
          "data": {
            "image/png": "[encoded data removed]",
            "text/plain": [
              "<Figure size 432x288 with 1 Axes>"
            ]
          },
          "metadata": {
            "tags": []
          }
        }
      ]
    },
    {
      "cell_type": "markdown",
      "metadata": {
        "id": "m2_gp1MJIGBs",
        "colab_type": "text"
      },
      "source": [
        "# Keras hyperparameter optimization\n",
        "\n",
        "https://blog.floydhub.com/guide-to-hyperparameters-search-for-deep-learning-models/\n",
        "\n",
        "https://github.com/autonomio/talos"
      ]
    },
    {
      "cell_type": "markdown",
      "metadata": {
        "id": "Ch5ncIuVZltq",
        "colab_type": "text"
      },
      "source": [
        "<img src='https://raw.githubusercontent.com/autonomio/hyperio/master/logo.png' width=250px>"
      ]
    },
    {
      "cell_type": "code",
      "metadata": {
        "id": "pLcnwIcRcgh0",
        "colab_type": "code",
        "colab": {}
      },
      "source": [
        "#!pip install talos\n",
        "!pip install git+https://github.com/autonomio/talos.git@daily-dev\n",
        "!pip install git+https://github.com/mikkokotila/astetik\n",
        "!rm datasets.py\n",
        "!wget \"https://raw.githubusercontent.com/autonomio/talos/production/talos/examples/datasets.py\""
      ],
      "execution_count": 0,
      "outputs": []
    },
    {
      "cell_type": "code",
      "metadata": {
        "id": "5boCy196Zlts",
        "colab_type": "code",
        "colab": {}
      },
      "source": [
        "from matplotlib import pyplot as plt\n",
        "import seaborn as sns\n",
        "sns.set()\n",
        "import talos as ta\n",
        "import pandas as pd\n",
        "import os\n",
        "import sys\n",
        "sys.path.append(os.getcwd())\n",
        "import datasets\n",
        "\n",
        "%matplotlib inline"
      ],
      "execution_count": 0,
      "outputs": []
    },
    {
      "cell_type": "markdown",
      "metadata": {
        "id": "ZV4MxEDVZltw",
        "colab_type": "text"
      },
      "source": [
        "## Table of Contents"
      ]
    },
    {
      "cell_type": "markdown",
      "metadata": {
        "id": "n3HUcpY5Zltx",
        "colab_type": "text"
      },
      "source": [
        "##### 1. <a href=#one>Data Preparation</a>\n",
        "##### 2. <a href=#two>Model Preparation</a>\n",
        "##### 3. <a href=#three>Setting the Parameter Space Boundaries</a>\n",
        "##### 4. <a href=#four>Run the Hyperparameter <code>Scan()</code></a>\n",
        "##### 5. <a href=#five>Access the results through the <code>Scan</code> object</a>\n",
        "##### 6. <a href=#six>Analysing the Scan results with <code>Reporting()</code></a>\n",
        "##### 7. <a href=#seven>Evaluating Models with <code>Evaluate()</code></a>\n",
        "##### 8. <a href=#eight>Deploying Models with <code>Deploy()</code></a>\n",
        "##### 9. <a href=#nine>Restoring Models with <code>Restore()</code></a>"
      ]
    },
    {
      "cell_type": "markdown",
      "metadata": {
        "id": "fLfnowiUZlty",
        "colab_type": "text"
      },
      "source": [
        "### 1. Data Preparation <a name=\"one\"></a> "
      ]
    },
    {
      "cell_type": "markdown",
      "metadata": {
        "id": "cypQfA7wZlty",
        "colab_type": "text"
      },
      "source": [
        "For this experiment, we're going to use the famous Iris dataset. "
      ]
    },
    {
      "cell_type": "code",
      "metadata": {
        "id": "doTkgU0GZltz",
        "colab_type": "code",
        "colab": {}
      },
      "source": [
        "x, y = datasets.iris()"
      ],
      "execution_count": 0,
      "outputs": []
    },
    {
      "cell_type": "markdown",
      "metadata": {
        "id": "br2sxlYtZlt3",
        "colab_type": "text"
      },
      "source": [
        "### 2. Model Preparation  <a name=\"two\"></a> \n",
        "Talos works with any Keras model, without changing the structure of the model in anyway, or without introducing any new syntax. The below example shows clearly how this works. \n",
        "\n",
        "For this example, we have to import two helper functions from Talos, one for early stopping callout, and the other for using normalized learning rate values. Because we might want to work on trying out several optimizers in a single scan, without normalization, inputting of the values would become cumbersome."
      ]
    },
    {
      "cell_type": "code",
      "metadata": {
        "id": "epbpliEYZlt3",
        "colab_type": "code",
        "colab": {}
      },
      "source": [
        "from talos.model.normalizers import lr_normalizer"
      ],
      "execution_count": 0,
      "outputs": []
    },
    {
      "cell_type": "markdown",
      "metadata": {
        "id": "Co6it_AwZlt-",
        "colab_type": "text"
      },
      "source": [
        "Note that the only difference in the model below is how instead of using a label or value to define a given model parameter, we do it using a dictionary label. Also for optimizer we are using a learning rate parameter, which involves the use of two dictionary labels."
      ]
    },
    {
      "cell_type": "code",
      "metadata": {
        "id": "JGbKxDRtZlt_",
        "colab_type": "code",
        "colab": {}
      },
      "source": [
        "from keras.models import Sequential\n",
        "from keras.layers import Dropout, Dense\n",
        "\n",
        "def iris_model(x_train, y_train, x_val, y_val, params):\n",
        "    \n",
        "    model = Sequential()                            \n",
        "    model.add(Dense(params['first_neuron'],\n",
        "                    input_dim=x_train.shape[1],\n",
        "                    activation='relu'))\n",
        "    \n",
        "    model.add(Dropout(params['dropout']))\n",
        "    model.add(Dense(y_train.shape[1],\n",
        "                    activation=params['last_activation']))\n",
        "\n",
        "    model.compile(optimizer=params['optimizer'](lr=lr_normalizer(params['lr'], params['optimizer'])),\n",
        "                  loss=params['loss'],\n",
        "                  metrics=['acc'])\n",
        "\n",
        "    out = model.fit(x_train, y_train,\n",
        "                    batch_size=params['batch_size'],\n",
        "                    epochs=params['epochs'],\n",
        "                    verbose=0,\n",
        "                    validation_data=[x_val, y_val])\n",
        "    \n",
        "    return out, model"
      ],
      "execution_count": 0,
      "outputs": []
    },
    {
      "cell_type": "markdown",
      "metadata": {
        "id": "kva7yWzMZluC",
        "colab_type": "text"
      },
      "source": [
        "### 3. Setting the Parameter Space Boundaries <a name=\"three\"></a> \n",
        "In the last and final step, we're going to create the dictionary, which will then be passed on to Talos together with the model above. Here we have three different ways to input values:\n",
        "\n",
        "- as stepped ranges (min, max, steps)\n",
        "- as multiple values [in a list]\n",
        "- as a single value [in a list]\n",
        "\n",
        "For values we don't want to use, it's ok to set it as None.\n",
        "\n",
        "NOTE: at this point you have to import from Keras the optimizer, activations, and losses you want to scan for."
      ]
    },
    {
      "cell_type": "code",
      "metadata": {
        "id": "f9BWAM83ZluD",
        "colab_type": "code",
        "colab": {}
      },
      "source": [
        "from keras.optimizers import Adam, Nadam\n",
        "from keras.activations import softmax\n",
        "from keras.losses import categorical_crossentropy, logcosh\n",
        "\n",
        "p = {'lr': (0.1, 10, 10),\n",
        "     'first_neuron':[4, 8, 16, 32, 64, 128],\n",
        "     'batch_size': [2, 3, 4],\n",
        "     'epochs': [200],\n",
        "     'dropout': (0, 0.40, 10),\n",
        "     'optimizer': [Adam, Nadam],\n",
        "     'loss': ['categorical_crossentropy'],\n",
        "     'last_activation': ['softmax'],\n",
        "     'weight_regulizer': [None]}"
      ],
      "execution_count": 0,
      "outputs": []
    },
    {
      "cell_type": "markdown",
      "metadata": {
        "id": "PYYCFx4vZluF",
        "colab_type": "text"
      },
      "source": [
        "### 4. Run the Hyperparameter <code>Scan()</code> <a name=\"four\"></a> \n",
        "Now we are ready to run the model based on the parameters and the layer configuration above. The exact same process would apply with any other model, just make sure to pass the model function name in the Scan() command as in the below example. To get started quickly, we're going to invoke the 'grid_downsample' parameter to 1/100 of the entire permutations."
      ]
    },
    {
      "cell_type": "code",
      "metadata": {
        "id": "h-XNxSjuZluG",
        "colab_type": "code",
        "colab": {}
      },
      "source": [
        "h = ta.Scan(x, y, params=p,\n",
        "            model=iris_model,\n",
        "            experiment_name='iris_1',\n",
        "            fraction_limit =0.01)"
      ],
      "execution_count": 0,
      "outputs": []
    },
    {
      "cell_type": "markdown",
      "metadata": {
        "id": "0plgUX8EZluL",
        "colab_type": "text"
      },
      "source": [
        "### 5. Access the results through the <code>Scan</code> object <a name=\"five\"></a> "
      ]
    },
    {
      "cell_type": "code",
      "metadata": {
        "id": "s1dzDcGSZluM",
        "colab_type": "code",
        "colab": {}
      },
      "source": [
        "# accessing the results data frame\n",
        "h.data.head()\n",
        "\n",
        "# accessing epoch entropy values for each round\n",
        "h.learning_entropy\n",
        "\n",
        "# access the summary details\n",
        "h.details"
      ],
      "execution_count": 0,
      "outputs": []
    },
    {
      "cell_type": "markdown",
      "metadata": {
        "id": "q_Ony_OqZluP",
        "colab_type": "text"
      },
      "source": [
        "In addition to statistics and meta-data related with the Scan, the used data (x and y) together with the saved model and model weights for each hyperparameter permutation is stored in the Scan object. "
      ]
    },
    {
      "cell_type": "code",
      "metadata": {
        "id": "DNbTyJ7BZluQ",
        "colab_type": "code",
        "colab": {}
      },
      "source": [
        "# accessing the saved models\n",
        "h.saved_models\n",
        "\n",
        "# accessing the saved weights for models\n",
        "h.saved_weights"
      ],
      "execution_count": 0,
      "outputs": []
    },
    {
      "cell_type": "markdown",
      "metadata": {
        "id": "YPAz23ktZluT",
        "colab_type": "text"
      },
      "source": [
        "The Scan object can be further used, and is required, as input for Predict(), Evaluate(), and Deploy(). More about this in the corresponding sections below."
      ]
    },
    {
      "cell_type": "markdown",
      "metadata": {
        "id": "ha5zZ3KTZluU",
        "colab_type": "text"
      },
      "source": [
        "### 6. Analysing the Scan results with <code>Reporting()</code> <a name=\"six\"></a> "
      ]
    },
    {
      "cell_type": "markdown",
      "metadata": {
        "id": "V0OfPVgNZluV",
        "colab_type": "text"
      },
      "source": [
        "In the Scan process, the results are stored round-by-round in the corresponding experiment log which is a .csv file stored in the present working directory. The Reporting() accepts as its source either a file name, or the Scan object. "
      ]
    },
    {
      "cell_type": "code",
      "metadata": {
        "id": "MEjtzmwwZluW",
        "colab_type": "code",
        "colab": {}
      },
      "source": [
        "# use Scan object as input\n",
        "r = ta.Analyze(h)\n",
        "\n",
        "# use filename as input\n",
        "#r = ta.Reporting('iris_1.csv')"
      ],
      "execution_count": 0,
      "outputs": []
    },
    {
      "cell_type": "code",
      "metadata": {
        "id": "G-PJSAcfZluY",
        "colab_type": "code",
        "colab": {}
      },
      "source": [
        "# access the dataframe with the results\n",
        "r.data.head(-3)"
      ],
      "execution_count": 0,
      "outputs": []
    },
    {
      "cell_type": "code",
      "metadata": {
        "id": "fF-IoNNsZlub",
        "colab_type": "code",
        "colab": {}
      },
      "source": [
        "# get the number of rounds in the Scan\n",
        "r.rounds()\n",
        "\n",
        "# get the highest result for any metric\n",
        "r.high('acc')\n",
        "\n",
        "# get the round with the best result\n",
        "r.rounds2high('acc')\n",
        "\n",
        "# get the best paramaters\n",
        "r.best_params('acc',[])\n",
        "\n",
        "# get correlation for hyperparameters against a metric\n",
        "r.correlate('val_loss',[])"
      ],
      "execution_count": 0,
      "outputs": []
    },
    {
      "cell_type": "markdown",
      "metadata": {
        "id": "f6hqCTMyZlud",
        "colab_type": "text"
      },
      "source": [
        "In addition to the key obsevations, several useful plots are available for analysis of the results."
      ]
    },
    {
      "cell_type": "code",
      "metadata": {
        "id": "gsdFoKVxZlue",
        "colab_type": "code",
        "colab": {}
      },
      "source": [
        "# up to two dimensional kernel density estimator\n",
        "r.plot_kde('acc')"
      ],
      "execution_count": 0,
      "outputs": []
    },
    {
      "cell_type": "code",
      "metadata": {
        "id": "evlUDy_d1kJS",
        "colab_type": "code",
        "colab": {}
      },
      "source": [
        "# a simple histogram\n",
        "r.plot_hist('acc',bins=50)"
      ],
      "execution_count": 0,
      "outputs": []
    },
    {
      "cell_type": "code",
      "metadata": {
        "id": "rb0bSurL1mFC",
        "colab_type": "code",
        "colab": {}
      },
      "source": [
        "# heatmap correlation\n",
        "r.plot_corr('acc',[])"
      ],
      "execution_count": 0,
      "outputs": []
    },
    {
      "cell_type": "code",
      "metadata": {
        "id": "7066DTnU1nKV",
        "colab_type": "code",
        "colab": {}
      },
      "source": [
        "# a four dimensional bar grid\n",
        "r.plot_bars('batch_size', 'val_acc', 'first_neuron', 'lr')"
      ],
      "execution_count": 0,
      "outputs": []
    },
    {
      "cell_type": "markdown",
      "metadata": {
        "id": "HJFdLufLZluh",
        "colab_type": "text"
      },
      "source": [
        "### 7. Evaluating Models with <code>Evaluate()</code> <a name=\"seven\"></a> "
      ]
    },
    {
      "cell_type": "markdown",
      "metadata": {
        "id": "UqaIvbL1Zlui",
        "colab_type": "text"
      },
      "source": [
        "Models can be evaluated with <code>Evaluate()</code> against a k-fold cross-validation. Ideally at least 50% of the data, or more if possible, is kept completely out of the <code>Scan</code> process and only exposed into Evaluate once one or more candidate models have been identified."
      ]
    },
    {
      "cell_type": "code",
      "metadata": {
        "id": "AxM3qcx5Zluj",
        "colab_type": "code",
        "colab": {}
      },
      "source": [
        "e = ta.Evaluate(h)\n",
        "e.evaluate(x, y, folds=10, task='multi_label', metric='acc') #, average='macro'"
      ],
      "execution_count": 0,
      "outputs": []
    },
    {
      "cell_type": "markdown",
      "metadata": {
        "id": "mAddqSZmZlul",
        "colab_type": "text"
      },
      "source": [
        "Once a sufficiently performing model have been found, a deployment package can be easily created."
      ]
    },
    {
      "cell_type": "markdown",
      "metadata": {
        "id": "6eVL7vGvZlum",
        "colab_type": "text"
      },
      "source": [
        "### 8. Deploying Models with <code>Deploy()</code> <a name=\"eight\"></a> "
      ]
    },
    {
      "cell_type": "markdown",
      "metadata": {
        "id": "18GAg3YpZlun",
        "colab_type": "text"
      },
      "source": [
        "Once the right model or models have been found, you can create a deployment package with <code>Deploy()</code> which is then easy to transfer to a production or other environment, send via email, or upload to shared remote location. Best model is automatically chosen based on a given metric ('val_acc' by default).\n",
        "\n",
        "The Deploy package is a zip file that consist of: \n",
        "\n",
        "- details of the scan\n",
        "- model weights\n",
        "- model json\n",
        "- results of the experiment\n",
        "- sample of x data\n",
        "- sample of y data\n",
        "\n",
        "The <code>Deploy</code> package can be easily restored with <code>Restore()</code> which is covered in the next section."
      ]
    },
    {
      "cell_type": "code",
      "metadata": {
        "id": "BSpGZV9pZlup",
        "colab_type": "code",
        "colab": {}
      },
      "source": [
        "ta.Deploy(h, 'iris','acc');"
      ],
      "execution_count": 0,
      "outputs": []
    },
    {
      "cell_type": "markdown",
      "metadata": {
        "id": "Zyg97tKSZlus",
        "colab_type": "text"
      },
      "source": [
        "### 9. Restoring Models with <code>Restore()</code> <a name=\"nine\"></a> "
      ]
    },
    {
      "cell_type": "markdown",
      "metadata": {
        "id": "6ll1dxxVZluu",
        "colab_type": "text"
      },
      "source": [
        "Models can be evaluated with <code>Evaluate()</code> against a k-fold cross-validation. Ideally at least 50% of the data, or more if possible, is kept completely out of the <code>Scan</code> process and only exposed into Evaluate once one or more candidate models have been identified."
      ]
    },
    {
      "cell_type": "code",
      "metadata": {
        "id": "pNTEQ9n7Zluy",
        "colab_type": "code",
        "colab": {}
      },
      "source": [
        "iris = ta.Restore('iris.zip')"
      ],
      "execution_count": 0,
      "outputs": []
    },
    {
      "cell_type": "markdown",
      "metadata": {
        "id": "tXK2LmzGZlu1",
        "colab_type": "text"
      },
      "source": [
        "The <code>Restore</code> object now consists of the assets from the Scan object originally associated with the experiment, together with the model that had been picked as 'best'. The model can be immediately used for making prediction, or use in any other other way Keras model objects can be used."
      ]
    },
    {
      "cell_type": "code",
      "metadata": {
        "id": "L_vBc3deZlu2",
        "colab_type": "code",
        "colab": {}
      },
      "source": [
        "# make predictions with the model\n",
        "iris.model.predict(x)"
      ],
      "execution_count": 0,
      "outputs": []
    },
    {
      "cell_type": "markdown",
      "metadata": {
        "id": "W2HGsxCuZlu7",
        "colab_type": "text"
      },
      "source": [
        "In addition, for book keeping purpose, and for simplicity of sharing models with team members and other stakeholders, various attributes are included in the <code>Restore</code> object:"
      ]
    },
    {
      "cell_type": "code",
      "metadata": {
        "id": "fckeceJ5Zlu7",
        "colab_type": "code",
        "colab": {}
      },
      "source": [
        "# get the meta-data for the experiment\n",
        "iris.details"
      ],
      "execution_count": 0,
      "outputs": []
    },
    {
      "cell_type": "code",
      "metadata": {
        "id": "XKqICo-8ZlvA",
        "colab_type": "code",
        "colab": {}
      },
      "source": [
        "# get the hyperparameter space boundary\n",
        "iris.params"
      ],
      "execution_count": 0,
      "outputs": []
    },
    {
      "cell_type": "code",
      "metadata": {
        "id": "RESyxB1JZlvE",
        "colab_type": "code",
        "colab": {}
      },
      "source": [
        "# sample of x and y data\n",
        "iris.x\n",
        "iris.y"
      ],
      "execution_count": 0,
      "outputs": []
    },
    {
      "cell_type": "code",
      "metadata": {
        "id": "c-SD-IgZZlvG",
        "colab_type": "code",
        "colab": {}
      },
      "source": [
        "# the results dataframe\n",
        "iris.results"
      ],
      "execution_count": 0,
      "outputs": []
    },
    {
      "cell_type": "markdown",
      "metadata": {
        "id": "9KB2i7HfZlvI",
        "colab_type": "text"
      },
      "source": [
        "\n",
        "<img align=left src='https://img00.deviantart.net/920c/i/2014/137/a/2/pinkie_pie_thats_all_folks_by_dan232323-d7ipnd4.jpg' width=400>"
      ]
    },
    {
      "cell_type": "markdown",
      "metadata": {
        "id": "1G_9X6LXZlvJ",
        "colab_type": "text"
      },
      "source": [
        "Back to the repository page >> http://github.com/autonomio/talos"
      ]
    },
    {
      "cell_type": "markdown",
      "metadata": {
        "id": "FA-v3WWJFd2r",
        "colab_type": "text"
      },
      "source": [
        "# GA for hyperparameter optimization\n",
        "\n",
        "http://aqibsaeed.github.io/2017-08-11-genetic-algorithm-for-optimizing-rnn/"
      ]
    },
    {
      "cell_type": "markdown",
      "metadata": {
        "id": "5ONJnMKWFrzr",
        "colab_type": "text"
      },
      "source": [
        "# Metalearning for deepnetworks\n",
        "\n",
        "https://github.com/ericjang/maml-jax/blob/master/maml.ipynb\n",
        "\n",
        "https://blog.evjang.com/2019/02/maml-jax.html\n",
        "\n",
        "https://medium.com/huggingface/from-zero-to-research-an-introduction-to-meta-learning-8e16e677f78a\n",
        "\n",
        "https://openai.com/blog/reptile/\n",
        "\n",
        "https://github.com/openai/supervised-reptile"
      ]
    },
    {
      "cell_type": "markdown",
      "metadata": {
        "id": "j5UY5mNYJJV9",
        "colab_type": "text"
      },
      "source": [
        "# Metalearning for reinforcement learning\n",
        "\n",
        "https://blog.floydhub.com/meta-rl/"
      ]
    },
    {
      "cell_type": "markdown",
      "metadata": {
        "id": "1SN3QCauFt37",
        "colab_type": "text"
      },
      "source": [
        "RNN for learning"
      ]
    }
  ]
}