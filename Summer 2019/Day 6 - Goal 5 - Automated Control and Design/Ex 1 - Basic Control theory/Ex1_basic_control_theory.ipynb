{
  "nbformat": 4,
  "nbformat_minor": 0,
  "metadata": {
    "colab": {
      "name": "Ex1_basic_control_theory.ipynb",
      "version": "0.3.2",
      "provenance": [],
      "collapsed_sections": []
    },
    "kernelspec": {
      "name": "python3",
      "display_name": "Python 3"
    }
  },
  "cells": [
    {
      "cell_type": "code",
      "metadata": {
        "id": "-BnAXd5czY-2",
        "colab_type": "code",
        "outputId": "371e6165-6589-46e6-a74a-dcff612cfd22",
        "colab": {
          "base_uri": "https://localhost:8080/",
          "height": 241
        }
      },
      "source": [
        "!pip install slycot\n",
        "!pip install control"
      ],
      "execution_count": 0,
      "outputs": [
        {
          "output_type": "stream",
          "text": [
            "Requirement already satisfied: slycot in /usr/local/lib/python3.6/dist-packages (0.3.5)\n",
            "Requirement already satisfied: numpy in /usr/local/lib/python3.6/dist-packages (from slycot) (1.16.4)\n",
            "Requirement already satisfied: control in /usr/local/lib/python3.6/dist-packages (0.8.2)\n",
            "Requirement already satisfied: numpy in /usr/local/lib/python3.6/dist-packages (from control) (1.16.4)\n",
            "Requirement already satisfied: scipy in /usr/local/lib/python3.6/dist-packages (from control) (1.3.1)\n",
            "Requirement already satisfied: matplotlib in /usr/local/lib/python3.6/dist-packages (from control) (3.0.3)\n",
            "Requirement already satisfied: pyparsing!=2.0.4,!=2.1.2,!=2.1.6,>=2.0.1 in /usr/local/lib/python3.6/dist-packages (from matplotlib->control) (2.4.2)\n",
            "Requirement already satisfied: cycler>=0.10 in /usr/local/lib/python3.6/dist-packages (from matplotlib->control) (0.10.0)\n",
            "Requirement already satisfied: python-dateutil>=2.1 in /usr/local/lib/python3.6/dist-packages (from matplotlib->control) (2.5.3)\n",
            "Requirement already satisfied: kiwisolver>=1.0.1 in /usr/local/lib/python3.6/dist-packages (from matplotlib->control) (1.1.0)\n",
            "Requirement already satisfied: six in /usr/local/lib/python3.6/dist-packages (from cycler>=0.10->matplotlib->control) (1.12.0)\n",
            "Requirement already satisfied: setuptools in /usr/local/lib/python3.6/dist-packages (from kiwisolver>=1.0.1->matplotlib->control) (41.0.1)\n"
          ],
          "name": "stdout"
        }
      ]
    },
    {
      "cell_type": "code",
      "metadata": {
        "id": "Lrk_mbbr_xLD",
        "colab_type": "code",
        "outputId": "2c904e6a-b03e-4df0-8105-d14df81d51c5",
        "colab": {
          "base_uri": "https://localhost:8080/",
          "height": 17
        }
      },
      "source": [
        "from IPython.display import Math, HTML\n",
        "display(HTML(\"<script src='https://cdnjs.cloudflare.com/ajax/libs/mathjax/2.7.3/\"\n",
        "               \"latest.js?config=default'></script>\"))"
      ],
      "execution_count": 0,
      "outputs": [
        {
          "output_type": "display_data",
          "data": {
            "text/html": [
              "<script src='https://cdnjs.cloudflare.com/ajax/libs/mathjax/2.7.3/latest.js?config=default'></script>"
            ],
            "text/plain": [
              "<IPython.core.display.HTML object>"
            ]
          },
          "metadata": {
            "tags": []
          }
        }
      ]
    },
    {
      "cell_type": "markdown",
      "metadata": {
        "id": "6nwgjYpUzZj1",
        "colab_type": "text"
      },
      "source": [
        "# What is control theory?\n",
        "\n",
        "Control theory allows us to leverage everything we know about a system to get the dynamics that we want.\n",
        "\n",
        "There are lots of subdivisions within control theory, including passive control, active open-loop control, and active feedback (closed-loop) control. We'll focus on closed-loop control.\n",
        "\n",
        "\n",
        "The premise of control theory is that you know the dynamics of your system:\n",
        "for a state x, with input u and output y we have: \n",
        "\n",
        "<img src=https://www.cds.caltech.edu/~murray/amwiki/extensions/wikitex/tmp/14378c274dddaa1de2c32860716a059b1.png>\n",
        "\n",
        "$A\\in R^{n\\times n}$ gives dynamics, \n",
        "\n",
        "$B \\in R^{n\\times p}$ is the control scheme, \n",
        "\n",
        "C is the measurement conversion, and \n",
        "\n",
        "D is a feedback term.\n",
        "\n"
      ]
    },
    {
      "cell_type": "markdown",
      "metadata": {
        "id": "6v9goyvVARtY",
        "colab_type": "text"
      },
      "source": [
        "## Essential topics"
      ]
    },
    {
      "cell_type": "markdown",
      "metadata": {
        "id": "8kRHtbOwRyJu",
        "colab_type": "text"
      },
      "source": [
        "### Stability\n",
        "Does our system blow up? Or will it acheive a nice, steady state?\n",
        "\n",
        "The critical feature is the eigenvalues of the dynamics matrix, A.\n",
        "\n",
        "The system is stable iff Re(eig(A)) are negative.\n",
        "\n",
        "Eigenvalues determine dominant behavior.\n",
        "\n",
        "The real part determins the sign of the exponential.\n",
        "\n",
        "We can control this with state feedback!\n"
      ]
    },
    {
      "cell_type": "markdown",
      "metadata": {
        "id": "ne5QKoOJRyVU",
        "colab_type": "text"
      },
      "source": [
        "\n",
        "### Controllability\n",
        "Let's add control. Assume can measure the full state. \n",
        "Suppose we've been handed some robot with known dynamics and fixed motors and knobs. How can we know if the control is sufficient? Or can we prove that there's absolutely no way to achieve the desired effect?\n",
        "\n",
        "We need to know that every dimension of the system can be \"touched\" by the control. \n",
        "\n",
        "To do so, we need to look at the so-called controllability matrix:\n",
        "\n",
        "<img src=https://wikimedia.org/api/rest_v1/media/math/render/svg/4066bb07332108ab276e27181720ab040059f4ca>\n",
        "\n",
        "Let's check controllability of a simple system."
      ]
    },
    {
      "cell_type": "code",
      "metadata": {
        "id": "GtlnNTD_Kyno",
        "colab_type": "code",
        "colab": {}
      },
      "source": [
        "import numpy as np\n",
        "import control"
      ],
      "execution_count": 0,
      "outputs": []
    },
    {
      "cell_type": "code",
      "metadata": {
        "id": "nxYvicGYKniv",
        "colab_type": "code",
        "outputId": "b83ad414-f574-49bb-834c-a2693f3c2b1d",
        "colab": {
          "base_uri": "https://localhost:8080/",
          "height": 119
        }
      },
      "source": [
        "# Parameters defining the system\n",
        "m = 250.0  # system mass\n",
        "k = 40.0   # spring constant\n",
        "b = 60.0   # damping constant\n",
        "\n",
        "# System matrices\n",
        "A = np.array([[1, -1, 1.],\n",
        "             [1, -k/m, -b/m],\n",
        "             [1, 1, 1]])\n",
        "\n",
        "B = np.array([[0], ## change these values to see what breaks controllability!\n",
        "             [1/m],\n",
        "             [1]])\n",
        "\n",
        "## check controllability\n",
        "controllability = control.ctrb(A, B)\n",
        "\n",
        "print(\"Controllability matrix: \\n\",controllability)\n",
        "rank = np.linalg.matrix_rank(controllability)\n",
        "print(\"rank:\", rank)\n",
        "print(\"A is controllable:\", rank==3)\n"
      ],
      "execution_count": 0,
      "outputs": [
        {
          "output_type": "stream",
          "text": [
            "Controllability matrix: \n",
            " [[ 0.         0.996      2.24064  ]\n",
            " [ 0.004     -0.24064    0.7935424]\n",
            " [ 1.         1.004      1.75936  ]]\n",
            "rank: 3\n",
            "A is controllable: True\n"
          ],
          "name": "stdout"
        }
      ]
    },
    {
      "cell_type": "markdown",
      "metadata": {
        "id": "jvoMQvTZOnQL",
        "colab_type": "text"
      },
      "source": [
        "There's a bit more power still to be had in this analysis.\n",
        "We can get more than the binary \"yes\" or \"no\" for controllability, but we can identify which dimensions are most controllable.\n",
        "\n",
        "Taking the Singular Value Decomposition (SVD) of the controllability matrix gives ranked eigenvectors along which the system is most controllable. "
      ]
    },
    {
      "cell_type": "markdown",
      "metadata": {
        "id": "qxPwcyIUMLbP",
        "colab_type": "text"
      },
      "source": [
        "### Observability\n",
        "Given less information than the full-state, will we still be able to see effects of each variable?\n",
        "\n",
        "This has the same feel as controllability. Consider the rank of the matrix:\n",
        "\n",
        "<img src=https://www.cds.caltech.edu/~murray/amwiki/extensions/wikitex/tmp/2ed36e64cf5dd9299e95ddd8e018159f1.png>\n",
        "\n",
        "If W0 has full rank then eventually, we'll \"see\" all the variables. "
      ]
    },
    {
      "cell_type": "code",
      "metadata": {
        "id": "Lp4I4uCWNdPV",
        "colab_type": "code",
        "outputId": "2042a50c-f709-453f-a2cc-373d544a0534",
        "colab": {
          "base_uri": "https://localhost:8080/",
          "height": 51
        }
      },
      "source": [
        "C = np.array([[1., 0, 1.]])\n",
        "\n",
        "observability = control.obsv(A, C)\n",
        "\n",
        "rank_ob = np.linalg.matrix_rank(controllability)\n",
        "print(\"rank:\", rank_ob)\n",
        "print(\"A is observable:\", rank==3)"
      ],
      "execution_count": 0,
      "outputs": [
        {
          "output_type": "stream",
          "text": [
            "rank: 3\n",
            "A is observable: True\n"
          ],
          "name": "stdout"
        }
      ]
    },
    {
      "cell_type": "markdown",
      "metadata": {
        "id": "O1Sy23HOR5r7",
        "colab_type": "text"
      },
      "source": [
        "## Linear Quadratic Regulator (LQR)\n",
        "\n",
        "Let's take a step back and remember our original goal:\n",
        "<img src = https://www.researchgate.net/profile/Lanre_Olatomiwa/publication/280599178/figure/fig3/AS:284520810074116@1444846455596/General-block-diagram-of-full-state-feedback-controller.png>\n",
        "\n",
        "We want to design a feedback procedure, called gain matrix K, to get to a target state.\n",
        "\n",
        "$\\dot{x} = Ax + Bu$\n",
        "\n",
        "Let $u = -Kx$ for full state feedback $\\rightarrow$\n",
        "\n",
        "$\\dot{x} = (A- BK)x$\n",
        "\n",
        " \n",
        " We have some state in mind that we're targeting, and we want our evolution to reach that state. \n",
        " We need to be able to identify the K which gives us eigenvalues which acheive our state.\n",
        " \n",
        "We'll construct a cost-function which defines the process of our minimization:\n",
        "\n",
        "<img src = https://www.cds.caltech.edu/~murray/amwiki/extensions/wikitex/tmp/c70b1264082e33a356ac0dd678c08abf1.png>\n",
        "\n",
        "\n",
        "It turns out there is an **analytically ideal** $K_{ideal}$  to get the eigenvalues to acheive our target state.  "
      ]
    },
    {
      "cell_type": "markdown",
      "metadata": {
        "id": "HrUL51IZSFQ4",
        "colab_type": "text"
      },
      "source": [
        "### LQR for rocket science\n",
        "Let's build a controller to shoot our rockets right on target!\n",
        "\n",
        "\n",
        "It can't be a physics event without force body diagrams...\n",
        "\n",
        "<img src=http://www.cds.caltech.edu/~murray/wiki/images/7/7d/Pvtol-diagram.png>  \n",
        "\n",
        "\n",
        "The dynamics are put into matrix form:\n",
        "\n",
        "<img src=http://www.cds.caltech.edu/~murray/wiki/images/2/21/Pvtol-statespace.png>"
      ]
    },
    {
      "cell_type": "code",
      "metadata": {
        "id": "ZlvU9t4-Kjko",
        "colab_type": "code",
        "colab": {}
      },
      "source": [
        "import os\n",
        "import numpy as np\n",
        "import matplotlib.pyplot as plt  # MATLAB plotting functions\n",
        "import control.matlab as ctrl  # MATLAB-like functions"
      ],
      "execution_count": 0,
      "outputs": []
    },
    {
      "cell_type": "code",
      "metadata": {
        "id": "vOCunIDVKjmw",
        "colab_type": "code",
        "colab": {}
      },
      "source": [
        "#\n",
        "# System dynamics\n",
        "#\n",
        "# These are the dynamics for the Planar vertical TakeOff and Landing (PVTOL)\n",
        "# system, written in state space form.\n",
        "#\n",
        "\n",
        "\n",
        "# System parameters\n",
        "m = 4       # mass of aircraft\n",
        "J = 0.0475  # inertia around pitch axis\n",
        "r = 0.25    # distance to center of force\n",
        "g = 9.8     # gravitational constant\n",
        "c = 0.05    # damping factor \n",
        "\n",
        "# State space dynamics\n",
        "xe = [0, 0, 0, 0, 0, 0]  # equilibrium point of interest\n",
        "# basis: x, y, theta, xdot, ydot, thetaDot\n",
        "ue = [0, m*g]  # (note these are lists, not matrices)\n",
        "\n",
        "# Dynamics matrix (use matrix type so that * works for multiplication)\n",
        "A = np.matrix(\n",
        "    [[0, 0, 0, 1, 0, 0],\n",
        "     [0, 0, 0, 0, 1, 0],\n",
        "     [0, 0, 0, 0, 0, 1],\n",
        "     [0, 0, (-ue[0]*np.sin(xe[2]) - ue[1]*np.cos(xe[2]))/m, -c/m, 0, 0],\n",
        "     [0, 0, (ue[0]*np.cos(xe[2]) - ue[1]*np.sin(xe[2]))/m, 0, -c/m, 0],\n",
        "     [0, 0, 0, 0, 0, 0]]\n",
        ")\n",
        "\n",
        "# Input matrix\n",
        "B = np.matrix(\n",
        "    [[0, 0], [0, 0], [0, 0],\n",
        "     [np.cos(xe[2])/m, -np.sin(xe[2])/m],\n",
        "     [np.sin(xe[2])/m, np.cos(xe[2])/m],\n",
        "     [r/J, 0]]\n",
        ")\n",
        "\n",
        "# Output matrix \n",
        "C = np.matrix([[1, 0, 0, 0, 0, 0], [0, 1, 0, 0, 0, 0]])\n",
        "D = np.matrix([[0, 0], [0, 0]])\n",
        "\n"
      ],
      "execution_count": 0,
      "outputs": []
    },
    {
      "cell_type": "code",
      "metadata": {
        "id": "CMif9GQ-KjpH",
        "colab_type": "code",
        "outputId": "57d2f4a1-9126-4c09-c444-3d003383eb6a",
        "colab": {
          "base_uri": "https://localhost:8080/",
          "height": 51
        }
      },
      "source": [
        "#\n",
        "# Construct inputs and outputs corresponding to steps in xy position\n",
        "#\n",
        "# The vectors xd and yd correspond to the states that are the desired\n",
        "# equilibrium states for the system.  The matrices Cx and Cy are the \n",
        "# corresponding outputs.\n",
        "#\n",
        "# The way these vectors are used is to compute the closed loop system\n",
        "# dynamics as\n",
        "#\n",
        "#   xdot = Ax + B u  =>  xdot = (A-BK)x + K xd\n",
        "#      u = -K(x - xd)       y = Cx\n",
        "#\n",
        "# The closed loop dynamics can be simulated using the \"step\" command, \n",
        "# with K*xd as the input vector (assumes that the \"input\" is unit size,\n",
        "# so that xd corresponds to the desired steady state.\n",
        "#\n",
        "\n",
        "xd = np.matrix([[1], [0], [0], [0], [0], [0]])\n",
        "yd = np.matrix([[0], [1], [0], [0], [0], [0]])\n",
        "\n",
        "\n",
        "# Extract the relevant dynamics for use with Single Input Single Output (SISO) library\n",
        "#\n",
        "# The current python-control library only supports SISO transfer\n",
        "# functions, so we have to modify some parts of the original MATLAB\n",
        "# code to extract out SISO systems.  To do this, we define the 'lat' and\n",
        "# 'alt' index vectors to consist of the states that are are relevant\n",
        "# to the lateral (x) and vertical (y) dynamics.\n",
        "#\n",
        "\n",
        "# Indices for the parts of the state that we want\n",
        "lat = (0, 2, 3, 5)\n",
        "alt = (1, 4)\n",
        "\n",
        "# Decoupled dynamics\n",
        "Ax = (A[lat, :])[:, lat]  # get \"lat\" columns and rows\n",
        "Bx = B[lat, 0]\n",
        "Cx = C[0, lat]\n",
        "Dx = D[0, 0]\n",
        "\n",
        "Ay = (A[alt, :])[:, alt]  # get \"alt\" columns and rows\n",
        "By = B[alt, 1]\n",
        "Cy = C[1, alt]\n",
        "Dy = D[1, 1]\n",
        "\n",
        "# Label the plot\n",
        "plt.clf()\n",
        "plt.suptitle(\"LQR controllers for vectored thrust aircraft (pvtol-lqr)\")\n"
      ],
      "execution_count": 0,
      "outputs": [
        {
          "output_type": "execute_result",
          "data": {
            "text/plain": [
              "Text(0.5, 0.98, 'LQR controllers for vectored thrust aircraft (pvtol-lqr)')"
            ]
          },
          "metadata": {
            "tags": []
          },
          "execution_count": 7
        },
        {
          "output_type": "display_data",
          "data": {
            "text/plain": [
              "<Figure size 432x288 with 0 Axes>"
            ]
          },
          "metadata": {
            "tags": []
          }
        }
      ]
    },
    {
      "cell_type": "code",
      "metadata": {
        "id": "FcICeMP_KjrY",
        "colab_type": "code",
        "outputId": "e17122e8-a276-4db3-d1dc-0bb66d30b4f7",
        "colab": {
          "base_uri": "https://localhost:8080/",
          "height": 238
        }
      },
      "source": [
        "#\n",
        "# LQR design\n",
        "#\n",
        "\n",
        "# Design 1. Start with a diagonal weighting\n",
        "Qx1 = np.diag([0.1, 10, 1, 1, 1, 1])\n",
        "Qu1a = np.diag([1, 1])\n",
        "K, X, E = ctrl.lqr(A, B, Qx1, Qu1a)\n",
        "K_1 = np.matrix(K)\n",
        "\n",
        "print(\"Q for xs:\\n\",Qx1)\n",
        "print(\"Q for us:\\n\",Qu1a)\n",
        "with np.printoptions(precision=3,suppress=True):\n",
        "  print(\"OUTPUT (gain (K) matrix):\\n\",K_1)"
      ],
      "execution_count": 0,
      "outputs": [
        {
          "output_type": "stream",
          "text": [
            "Q for xs:\n",
            " [[ 0.1  0.   0.   0.   0.   0. ]\n",
            " [ 0.  10.   0.   0.   0.   0. ]\n",
            " [ 0.   0.   1.   0.   0.   0. ]\n",
            " [ 0.   0.   0.   1.   0.   0. ]\n",
            " [ 0.   0.   0.   0.   1.   0. ]\n",
            " [ 0.   0.   0.   0.   0.   1. ]]\n",
            "Q for us:\n",
            " [[1 0]\n",
            " [0 1]]\n",
            "OUTPUT (gain (K) matrix):\n",
            " [[-0.316  0.     6.697 -1.189  0.     1.938]\n",
            " [-0.     3.162  0.    -0.     5.078  0.   ]]\n"
          ],
          "name": "stdout"
        }
      ]
    },
    {
      "cell_type": "code",
      "metadata": {
        "id": "fjwg5iI0LZyM",
        "colab_type": "code",
        "outputId": "d4fafa3b-1ad1-45e7-c7d8-bffba3e01d02",
        "colab": {
          "base_uri": "https://localhost:8080/",
          "height": 177
        }
      },
      "source": [
        "# Step response for the first input\n",
        "sys_1_x = ctrl.ss(Ax - Bx*K_1[0, lat], Bx*K_1[0, lat]*xd[lat, :], Cx, Dx)\n",
        "xs_1, time_x = ctrl.step(sys_1_x, T=np.linspace(0, 10, 100))\n",
        "\n",
        "# Step response for the second input\n",
        "sys_1_y =ctrl.ss(Ay - By*K_1[1, alt], By*K_1[1, alt]*yd[alt, :], Cy, Dy)\n",
        "ys_1, time_y = ctrl.step(sys_1_y, T=np.linspace(0, 10, 100))\n",
        "\n",
        "plt.subplot(221)\n",
        "plt.title(\"Q=Identity weights\")\n",
        "# plt.plot(T, Y[:,1, 1], '-', T, Y[:,2, 2], '--')\n",
        "plt.plot(time_x.T, xs_1.T, '-', time_y.T, ys_1.T, '--')\n",
        "plt.plot([0, 10], [1, 1], 'k-')\n",
        "\n",
        "#plt.axis([0, 10, -0.1, 1.4])\n",
        "plt.ylabel('position')\n",
        "plt.xlabel('time')\n",
        "plt.legend(('x', 'y'), loc='lower right')\n",
        "\n",
        "plt.subplot(222)\n",
        "plt.plot(xs_1.T, ys_1.T, ',k')\n",
        "#plt.axis([0.8, 1, 0.5,1])\n",
        "plt.xlabel(\"X Pos\")\n",
        "plt.ylabel(\"Y Pos\");\n"
      ],
      "execution_count": 0,
      "outputs": [
        {
          "output_type": "display_data",
          "data": {
            "image/png": "[encoded data removed]",
            "text/plain": [
              "<Figure size 432x288 with 2 Axes>"
            ]
          },
          "metadata": {
            "tags": []
          }
        }
      ]
    },
    {
      "cell_type": "code",
      "metadata": {
        "id": "9vpMD0NqXKPn",
        "colab_type": "code",
        "outputId": "383786fd-fec7-4f83-b7e0-62d3c485c326",
        "colab": {
          "base_uri": "https://localhost:8080/",
          "height": 170
        }
      },
      "source": [
        "## LQR Design 2a, 2b, 2c\n",
        "Qu2a = np.diag([1, 1])\n",
        "K_2a, X, E = ctrl.lqr(A, B, Qx1, Qu2a)\n",
        "sys_2a = ctrl.ss(Ax - Bx*K_2a[0, lat], Bx*K_2a[0, lat]*xd[lat, :], Cx, Dx)\n",
        "\n",
        "Qu2b = (40 ** 2)*np.diag([1, 1])\n",
        "K_2b, X, E = ctrl.lqr(A, B, Qx1, Qu2b)\n",
        "sys_2b = ctrl.ss(Ax - Bx*K_2b[0, lat], Bx*K_2b[0, lat]*xd[lat, :], Cx, Dx)\n",
        "\n",
        "Qu2c = (200 ** 2)*np.diag([1, 1])\n",
        "K_2c, X, E = ctrl.lqr(A, B, Qx1, Qu2c)\n",
        "sys_2c_x = ctrl.ss(Ax - Bx*K_2c[0, lat], Bx*K_2c[0, lat]*xd[lat, :], Cx, Dx)\n",
        "sys_2c_y =ctrl.ss(Ay - By*K_2c[1, alt], By*K_2c[1, alt]*yd[alt, :], Cy, Dy)\n",
        "\n",
        "print(\"1a:\\n\",Qu2a)\n",
        "print(\"1b:\\n\",Qu2b)\n",
        "print(\"1c:\\n\",Qu2c)"
      ],
      "execution_count": 0,
      "outputs": [
        {
          "output_type": "stream",
          "text": [
            "1a:\n",
            " [[1 0]\n",
            " [0 1]]\n",
            "1b:\n",
            " [[1600    0]\n",
            " [   0 1600]]\n",
            "1c:\n",
            " [[40000     0]\n",
            " [    0 40000]]\n"
          ],
          "name": "stdout"
        }
      ]
    },
    {
      "cell_type": "code",
      "metadata": {
        "id": "-nxRleFhcwqH",
        "colab_type": "code",
        "outputId": "eb31903b-d102-4d40-ae3c-849c885d87db",
        "colab": {
          "base_uri": "https://localhost:8080/",
          "height": 312
        }
      },
      "source": [
        "xs_2a, ts_2a = ctrl.step(sys_2a, T=np.linspace(0, 10, 100))\n",
        "xs_2b, ts_2b = ctrl.step(sys_2b, T=np.linspace(0, 10, 100))\n",
        "xs_2c, ts_2c_x = ctrl.step(sys_2c_x, T=np.linspace(0, 10, 100))\n",
        "ys_2c, ts_2c_y = ctrl.step(sys_2c_y, T=np.linspace(0, 10, 100))\n",
        "\n",
        "plt.subplot(121)\n",
        "plt.title(\"Effect of input weights\")\n",
        "plt.plot(ts_2a.T, xs_2a.T, 'r-',label='2a')\n",
        "plt.plot(ts_2b.T, xs_2b.T, 'g-',label='2b')\n",
        "plt.plot(ts_2c_x.T, xs_2c.T, 'b-',label='2c')\n",
        "plt.plot([0, 10], [1, 1], 'k-')\n",
        "plt.ylabel(\"X Pos\")\n",
        "plt.xlabel(\"Time\")\n",
        "plt.legend()\n",
        "plt.axis([0, 10, -0.1, 1.4]);\n",
        "\n",
        "plt.subplot(122)\n",
        "plt.plot(xs_2c.T, ys_2c.T,'b.')\n"
      ],
      "execution_count": 0,
      "outputs": [
        {
          "output_type": "execute_result",
          "data": {
            "text/plain": [
              "[<matplotlib.lines.Line2D at 0x7f4343b785f8>]"
            ]
          },
          "metadata": {
            "tags": []
          },
          "execution_count": 50
        },
        {
          "output_type": "display_data",
          "data": {
            "image/png": "[encoded data removed]",
            "text/plain": [
              "<Figure size 432x288 with 2 Axes>"
            ]
          },
          "metadata": {
            "tags": []
          }
        }
      ]
    },
    {
      "cell_type": "code",
      "metadata": {
        "id": "eEezyyeZd1L6",
        "colab_type": "code",
        "outputId": "d49194c9-4b2e-41d2-fe99-dcaeec91a856",
        "colab": {
          "base_uri": "https://localhost:8080/",
          "height": 374
        }
      },
      "source": [
        "# LQR design 3\n",
        "#\n",
        "# Physically motivated weighting\n",
        "#\n",
        "# Shoot for 1 cm error in x, 10 cm error in y.  Try to keep the angle\n",
        "# less than 5 degrees in making the adjustments.  Penalize side forces\n",
        "# due to loss in efficiency.\n",
        "#\n",
        "\n",
        "Qx3 = np.diag([1, 1, np.pi/5*180, 0, 0, 0])\n",
        "Qu3 = 0.1*np.diag([100, 1])\n",
        "(K, X, E) = ctrl.lqr(A, B, Qx3, Qu3)\n",
        "K_3 = np.matrix(K)\n",
        "\n",
        "print(\"State space cost:\\n\", Qx3)\n",
        "print(\"Control space cost:\\n\", Qu3)\n",
        "print(\"Calculated gain:\\n\", K)"
      ],
      "execution_count": 0,
      "outputs": [
        {
          "output_type": "stream",
          "text": [
            "State space cost:\n",
            " [[  1.           0.           0.           0.           0.\n",
            "    0.        ]\n",
            " [  0.           1.           0.           0.           0.\n",
            "    0.        ]\n",
            " [  0.           0.         113.09733553   0.           0.\n",
            "    0.        ]\n",
            " [  0.           0.           0.           0.           0.\n",
            "    0.        ]\n",
            " [  0.           0.           0.           0.           0.\n",
            "    0.        ]\n",
            " [  0.           0.           0.           0.           0.\n",
            "    0.        ]]\n",
            "Control space cost:\n",
            " [[10.   0. ]\n",
            " [ 0.   0.1]]\n",
            "Calculated gain:\n",
            " [[-3.16227766e-01 -5.23435434e-16  5.06914927e+00 -5.66510812e-01\n",
            "  -1.46584645e-17  1.41280126e+00]\n",
            " [ 6.66832953e-16  3.16227766e+00 -1.25260531e-15  1.14021773e-15\n",
            "   4.97998223e+00 -1.23788049e-16]]\n"
          ],
          "name": "stdout"
        }
      ]
    },
    {
      "cell_type": "code",
      "metadata": {
        "id": "R6qjjtqJd1OY",
        "colab_type": "code",
        "outputId": "61ba9419-da34-4ffd-bb7a-0e28caf5f082",
        "colab": {
          "base_uri": "https://localhost:8080/",
          "height": 325
        }
      },
      "source": [
        "sys_3_x = ctrl.ss(Ax - Bx*K_3[0, lat], Bx*K_3[0, lat]*xd[lat, :], Cx, Dx)\n",
        "sys_3_y = ctrl.ss(Ay - By*K_3[1, alt], By*K_3[1, alt]*yd[alt, :], Cy, Dy)\n",
        "\n",
        "plt.subplot(121)\n",
        "[xs_3, ts_3_x] = ctrl.step(sys_3_x, T=np.linspace(0, 10, 100))\n",
        "[ys_3, ts_3_y] = ctrl.step(sys_3_y, T=np.linspace(0, 10, 100))\n",
        "plt.plot(ts_3_x.T, xs_3.T, ts_3_y.T, ys_3.T)\n",
        "plt.suptitle(\"Physically motivated weights\")\n",
        "plt.xlabel('time')\n",
        "plt.legend(('x', 'y'), loc='lower right')\n",
        "\n",
        "plt.subplot(122);\n",
        "plt.plot(xs_3, ys_3, 'k.')\n",
        "plt.title(\"Trajectory\")\n",
        "plt.xlabel(\"X pos\")\n",
        "plt.ylabel(\"Y pos\")\n"
      ],
      "execution_count": 0,
      "outputs": [
        {
          "output_type": "execute_result",
          "data": {
            "text/plain": [
              "Text(0, 0.5, 'Y pos')"
            ]
          },
          "metadata": {
            "tags": []
          },
          "execution_count": 89
        },
        {
          "output_type": "display_data",
          "data": {
            "image/png": "[encoded data removed]",
            "text/plain": [
              "<Figure size 432x288 with 2 Axes>"
            ]
          },
          "metadata": {
            "tags": []
          }
        }
      ]
    },
    {
      "cell_type": "markdown",
      "metadata": {
        "id": "iUnavdC_Up6G",
        "colab_type": "text"
      },
      "source": [
        "## And lot's more!\n",
        "For more information on robustness against noise and system deviations as well as frequency-domain treatment, and optimization, check out these outstanding [video lectures by Steven Brunton](https://www.youtube.com/watch?v=Pi7l8mMjYVE&list=PLMrJAkhIeNNR20Mz-VpzgfQs5zrYi085m&index=1)"
      ]
    },
    {
      "cell_type": "code",
      "metadata": {
        "id": "eWKBKqiM3Hvh",
        "colab_type": "code",
        "colab": {}
      },
      "source": [
        ""
      ],
      "execution_count": 0,
      "outputs": []
    }
  ]
}