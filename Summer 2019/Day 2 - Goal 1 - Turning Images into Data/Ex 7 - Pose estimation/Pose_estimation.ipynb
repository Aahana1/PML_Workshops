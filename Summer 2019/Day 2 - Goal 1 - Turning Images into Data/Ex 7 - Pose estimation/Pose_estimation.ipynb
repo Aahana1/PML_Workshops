{
  "nbformat": 4,
  "nbformat_minor": 0,
  "metadata": {
    "colab": {
      "name": "Pose estimation.ipynb",
      "version": "0.3.2",
      "provenance": [],
      "collapsed_sections": []
    },
    "kernelspec": {
      "name": "python3",
      "display_name": "Python 3"
    }
  },
  "cells": [
    {
      "cell_type": "markdown",
      "metadata": {
        "id": "qgb8vSjrJRo-",
        "colab_type": "text"
      },
      "source": [
        "[Link to video (part 1)](https://youtu.be/K6t0ZpsJYfA)"
      ]
    },
    {
      "cell_type": "markdown",
      "metadata": {
        "id": "xsANkCEXMFuG",
        "colab_type": "text"
      },
      "source": [
        "## Pose Estimation\n",
        "\n",
        "Pose estimation is the act of estimating the relative positions of body parts of animals. Thankfully, a software package exists to make this task automatic and user friendly. It's based on tensorflow and you still have to train it to the data set you want to use. It's called [Deep Lab Cut.](https://github.com/AlexEMG/DeepLabCut)\n",
        "\n",
        "[A good set of training materials already exists.](https://github.com/AlexEMG/DeepLabCut/tree/master/examples) There's no need to repeat their work so we will go through them now. \n",
        "\n",
        "\n",
        "<p align=\"center\">\n",
        "<img src=\"http://www.people.fas.harvard.edu/~amathis/dlc/MATHIS_2018_odortrail.gif\" height=\"220\">\n",
        "<img src=\"https://static1.squarespace.com/static/57f6d51c9f74566f55ecf271/t/5c3fbd0c898583417a040dfc/1547681053201/rat-grasp.gif?format=300w\"  height=\"220\">\n",
        "<img src=\"http://www.people.fas.harvard.edu/~amathis/dlc/MATHIS_2018_fly.gif\" height=\"220\">\n",
        "</p>\n",
        "\n",
        "(GIFs from the Deep Lab Cut Github repository, courtesy of the Murthy (mouse), Leventhal (rat), and Axel (fly) labs.)\n",
        "\n",
        "\n",
        "Insafutdinov, E., Pishchulin, L., Andres, B., Andriluka, M. & Schiele, B. DeeperCut: A Deeper, Stronger, and Faster Multi-Person Pose Estimation Model. , (2018).\n",
        "\n",
        "Nath*, T., Mathis*, A., Chen, A. C., Patel, A., Bethge, M. & Mathis, M. W. Using DeepLabCut for 3D markerless pose estimation across species and behaviors. Nat. Protoc. , (2019).\n",
        "\n",
        "Mathis, A., Mamidanna, P., Cury, K. M., Abe, T., Murthy, V. N., Mathis, M. W. & Bethge, M. DeepLabCut: markerless pose estimation of user-defined body parts with deep learning. Nat. Neurosci. , (2018)."
      ]
    },
    {
      "cell_type": "markdown",
      "metadata": {
        "id": "Y1ws249qNvhx",
        "colab_type": "text"
      },
      "source": [
        "### Part 1: [Colab_DEMO_mouse_openfield](https://colab.research.google.com/github/AlexEMG/DeepLabCut/blob/master/examples/Colab_DEMO_mouse_openfield.ipynb)\n",
        "### Part 2: [Colab_TrainNetwork_VideoAnalysis](https://colab.research.google.com/github/AlexEMG/DeepLabCut/blob/master/examples/Colab_TrainNetwork_VideoAnalysis.ipynb)\n",
        "### Part 3: [Demo_yourowndata](https://github.com/AlexEMG/DeepLabCut/blob/master/examples/Demo_yourowndata.ipynb)\n",
        "### Part 4: [DEMO_3D_DeepLabCut](https://github.com/AlexEMG/DeepLabCut/blob/master/examples/DEMO_3D_DeepLabCut.ipynb)"
      ]
    }
  ]
}