{
 "cells": [
  {
   "cell_type": "markdown",
   "metadata": {
    "slideshow": {
     "slide_type": "slide"
    }
   },
   "source": [
    "# Using a Genetic Algorithm to recreate an image"
   ]
  },
  {
   "cell_type": "markdown",
   "metadata": {
    "slideshow": {
     "slide_type": "fragment"
    }
   },
   "source": [
    "- **Goal**: Using a GA, we'll try to regenerate an image using a triangles overlain over each other.\n",
    "- **Prequisites**: A small JPG (the extension and type is very important!) image (~ 100 x 100 to 200 x 200 pixels) \n",
    "- **Reference**: Modified from: https://scturtle.me/posts/2014-04-18-ga.html"
   ]
  },
  {
   "cell_type": "markdown",
   "metadata": {
    "slideshow": {
     "slide_type": "slide"
    }
   },
   "source": [
    "# Imports"
   ]
  },
  {
   "cell_type": "code",
   "execution_count": 30,
   "metadata": {
    "collapsed": true,
    "slideshow": {
     "slide_type": "fragment"
    }
   },
   "outputs": [],
   "source": [
    "from deap import base, creator, tools, algorithms\n",
    "from random import randint, random, gauss\n",
    "from PIL import Image, ImageDraw\n",
    "from functools import partial\n",
    "from math import sqrt\n",
    "from datetime import datetime\n",
    "import numpy\n",
    "import multiprocessing\n",
    "import matplotlib.pyplot as plt"
   ]
  },
  {
   "cell_type": "markdown",
   "metadata": {
    "slideshow": {
     "slide_type": "slide"
    }
   },
   "source": [
    "Load the file and define some useful constants"
   ]
  },
  {
   "cell_type": "code",
   "execution_count": 39,
   "metadata": {
    "collapsed": false,
    "slideshow": {
     "slide_type": "fragment"
    }
   },
   "outputs": [],
   "source": [
    "# Now load the image, and set some constants:\n",
    "filename = 'myimage.jpg'  # set your image name here\n",
    "IMG = Image.open(filename)\n",
    "WIDTH, HEIGHT = IMG.size\n",
    "NUMBER_OF_TRIANGLES = 50\n",
    "POPULATION = 40\n",
    "NGEN = 100\n",
    "POLY = 3"
   ]
  },
  {
   "cell_type": "markdown",
   "metadata": {
    "slideshow": {
     "slide_type": "slide"
    }
   },
   "source": [
    "Now setup some convenience functions:"
   ]
  },
  {
   "cell_type": "code",
   "execution_count": 32,
   "metadata": {
    "collapsed": true,
    "slideshow": {
     "slide_type": "fragment"
    }
   },
   "outputs": [],
   "source": [
    "def gen_one_triangle():\n",
    "    return (tuple([(randint(0, WIDTH), randint(0, HEIGHT)) for i in xrange(POLY)]),\n",
    "            randint(0,255), randint(0,255), randint(0,255), randint(0,30))\n",
    "\n",
    "\n",
    "def triangles_to_image(triangles):\n",
    "    im = Image.new('RGB', (WIDTH, HEIGHT), (255, 255, 255))\n",
    "    for tri in triangles:\n",
    "        mask = Image.new('RGBA', (WIDTH, HEIGHT))\n",
    "        draw = ImageDraw.Draw(mask)\n",
    "        draw.polygon(tri[0], fill=tri[1:])\n",
    "        im.paste(mask, mask=mask)\n",
    "        del mask, draw\n",
    "    return im"
   ]
  },
  {
   "cell_type": "markdown",
   "metadata": {
    "slideshow": {
     "slide_type": "slide"
    }
   },
   "source": [
    "As before, we define our evaluation function:"
   ]
  },
  {
   "cell_type": "code",
   "execution_count": 33,
   "metadata": {
    "collapsed": true,
    "slideshow": {
     "slide_type": "fragment"
    }
   },
   "outputs": [],
   "source": [
    "def evaluate(im1, t2):\n",
    "    im2 = triangles_to_image(t2)\n",
    "    pix1, pix2 = im1.load(), im2.load()\n",
    "    ans = 0\n",
    "    for i in xrange(HEIGHT):\n",
    "        for j in xrange(WIDTH):\n",
    "            a1, a2, a3 = pix1[i, j]\n",
    "            b1, b2, b3 = pix2[i, j]\n",
    "            ans += (a1 - b1) ** 2 + (a2 - b2) ** 2 + (a3 - b3) ** 2\n",
    "    return 1 - (1. * sqrt(ans) / sqrt(WIDTH * HEIGHT * 3 * 255 * 255)),"
   ]
  },
  {
   "cell_type": "markdown",
   "metadata": {
    "slideshow": {
     "slide_type": "slide"
    }
   },
   "source": [
    "Similarly, we configure our mutation function:"
   ]
  },
  {
   "cell_type": "code",
   "execution_count": 34,
   "metadata": {
    "collapsed": true,
    "slideshow": {
     "slide_type": "fragment"
    }
   },
   "outputs": [],
   "source": [
    "def mutate(triangles):\n",
    "    e0 = evaluate(IMG, triangles)\n",
    "    for i in xrange(10):\n",
    "        tid = randint(0, NUMBER_OF_TRIANGLES - 1)\n",
    "        oldt = triangles[tid]\n",
    "\n",
    "        t = list(oldt)\n",
    "        p = randint(0, 2 * POLY + 4 - 1)\n",
    "        if p < 2 * POLY:\n",
    "            points = list(t[0])\n",
    "            pnt = list(points[p / 2])\n",
    "            pnt[p % 2] = randint(0, WIDTH)\n",
    "            points[p / 2] = tuple(pnt)\n",
    "            t[0] = tuple(points)\n",
    "        else:\n",
    "            p -= 2 * POLY - 1\n",
    "            t[p] = randint(0, 255)\n",
    "\n",
    "        triangles[tid] = tuple(t)\n",
    "        if evaluate(IMG, triangles) > e0:\n",
    "            break\n",
    "        else:\n",
    "            triangles[tid] = oldt\n",
    "    return triangles,  # note the trailing comma here!"
   ]
  },
  {
   "cell_type": "markdown",
   "metadata": {
    "slideshow": {
     "slide_type": "slide"
    }
   },
   "source": [
    "Finally, we setup DEAP"
   ]
  },
  {
   "cell_type": "code",
   "execution_count": 35,
   "metadata": {
    "collapsed": false,
    "slideshow": {
     "slide_type": "fragment"
    }
   },
   "outputs": [],
   "source": [
    "creator.create(\"Fitness\", base.Fitness, weights=(1.0,))\n",
    "creator.create(\"Individual\", list, fitness=creator.Fitness)\n",
    "\n",
    "toolbox = base.Toolbox()\n",
    "\n",
    "# multiprocessing\n",
    "pool = multiprocessing.Pool(processes=16)\n",
    "toolbox.register(\"map\", pool.map)\n",
    "\n",
    "toolbox.register(\"attr\", gen_one_triangle)\n",
    "toolbox.register(\"individual\", \n",
    "                 tools.initRepeat, \n",
    "                 creator.Individual, \n",
    "                 toolbox.attr, \n",
    "                 NUMBER_OF_TRIANGLES)\n",
    "\n",
    "toolbox.register(\"population\", \n",
    "                 tools.initRepeat, \n",
    "                 list, \n",
    "                 toolbox.individual)\n",
    "\n",
    "toolbox.register(\"evaluate\", partial(evaluate, IMG))\n",
    "toolbox.register(\"mate\", tools.cxTwoPoint)\n",
    "toolbox.register(\"mutate\", mutate)\n",
    "toolbox.register(\"select\", tools.selTournament, tournsize=3)"
   ]
  },
  {
   "cell_type": "markdown",
   "metadata": {
    "slideshow": {
     "slide_type": "slide"
    }
   },
   "source": [
    "Now we attempt evolve the image. Note that this can take a long time (~ hours) if a large image is used!"
   ]
  },
  {
   "cell_type": "code",
   "execution_count": 42,
   "metadata": {
    "collapsed": false,
    "slideshow": {
     "slide_type": "fragment"
    }
   },
   "outputs": [
    {
     "name": "stdout",
     "output_type": "stream",
     "text": [
      "0:00:37.032754\n"
     ]
    }
   ],
   "source": [
    "start = datetime.now()\n",
    "verbose = False\n",
    "pop = toolbox.population(n=POPULATION)\n",
    "hof = tools.HallOfFame(1)\n",
    "\n",
    "stats = tools.Statistics(lambda ind: ind.fitness.values)\n",
    "stats.register(\"min\", numpy.min)\n",
    "stats.register(\"max\", numpy.max)\n",
    "stats.register(\"avg\", numpy.mean)\n",
    "stats.register(\"std\", numpy.std)\n",
    "\n",
    "try:\n",
    "    pop, log = algorithms.eaSimple(pop, \n",
    "                                   toolbox, \n",
    "                                   cxpb=0.5, \n",
    "                                   mutpb=0.1, \n",
    "                                   ngen=NGEN, \n",
    "                                   stats=stats,\n",
    "                                   halloffame=hof, \n",
    "                                   verbose=verbose)\n",
    "finally:\n",
    "    if len(hof) > 0:\n",
    "        # Save the results\n",
    "        open('result.txt', 'w').write(repr(hof[0]))\n",
    "        triangles_to_image(hof[0]).save('result.png')\n",
    "        \n",
    "print datetime.now() - start  # tell us how much time has elapsed"
   ]
  },
  {
   "cell_type": "markdown",
   "metadata": {
    "slideshow": {
     "slide_type": "slide"
    }
   },
   "source": [
    "Compare the results:"
   ]
  },
  {
   "cell_type": "code",
   "execution_count": 37,
   "metadata": {
    "collapsed": false,
    "slideshow": {
     "slide_type": "fragment"
    }
   },
   "outputs": [
    {
     "data": {
      "image/jpeg": "[encoded data removed]",
      "text/plain": [
       "<IPython.core.display.Image object>"
      ]
     },
     "execution_count": 37,
     "metadata": {},
     "output_type": "execute_result"
    }
   ],
   "source": [
    "import IPython.display as display\n",
    "display.Image(filename='myimage.jpg') # original"
   ]
  },
  {
   "cell_type": "code",
   "execution_count": 38,
   "metadata": {
    "collapsed": false,
    "slideshow": {
     "slide_type": "fragment"
    }
   },
   "outputs": [
    {
     "data": {
      "image/png": "[encoded data removed]",
      "text/plain": [
       "<IPython.core.display.Image object>"
      ]
     },
     "execution_count": 38,
     "metadata": {},
     "output_type": "execute_result"
    }
   ],
   "source": [
    "display.Image(filename='result.png')"
   ]
  },
  {
   "cell_type": "markdown",
   "metadata": {
    "slideshow": {
     "slide_type": "slide"
    }
   },
   "source": [
    "# Activity 1: What happens when we use a different polygon?"
   ]
  },
  {
   "cell_type": "markdown",
   "metadata": {
    "slideshow": {
     "slide_type": "slide"
    }
   },
   "source": [
    "# Activity 2: What happens when we vary the population and the number of polygons?"
   ]
  },
  {
   "cell_type": "code",
   "execution_count": null,
   "metadata": {
    "collapsed": true,
    "slideshow": {
     "slide_type": "skip"
    }
   },
   "outputs": [],
   "source": []
  }
 ],
 "metadata": {
  "celltoolbar": "Slideshow",
  "kernelspec": {
   "display_name": "Python 2",
   "language": "python",
   "name": "python2"
  },
  "language_info": {
   "codemirror_mode": {
    "name": "ipython",
    "version": 2
   },
   "file_extension": ".py",
   "mimetype": "text/x-python",
   "name": "python",
   "nbconvert_exporter": "python",
   "pygments_lexer": "ipython2",
   "version": "2.7.12"
  }
 },
 "nbformat": 4,
 "nbformat_minor": 1
}
