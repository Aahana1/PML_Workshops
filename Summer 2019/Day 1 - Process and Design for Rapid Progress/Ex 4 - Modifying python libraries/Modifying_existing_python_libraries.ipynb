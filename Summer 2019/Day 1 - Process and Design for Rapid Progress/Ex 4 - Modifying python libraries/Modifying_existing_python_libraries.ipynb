{
  "nbformat": 4,
  "nbformat_minor": 0,
  "metadata": {
    "colab": {
      "name": "Modifying existing python libraries (full).ipynb",
      "version": "0.3.2",
      "provenance": [],
      "collapsed_sections": [],
      "toc_visible": true
    },
    "kernelspec": {
      "name": "python3",
      "display_name": "Python 3"
    }
  },
  "cells": [
    {
      "cell_type": "markdown",
      "metadata": {
        "id": "MatJU2tWC1gQ",
        "colab_type": "text"
      },
      "source": [
        "# Modifying existing python libraries\n",
        "\n",
        "## Why would you need to do this?\n",
        "\n",
        "1.\t**For a novel application or to avoid starting from scratch:** As a scientist you may be faced with a daunting project that seems like you have to build everything from scratch, or your use case may be wildly different from the intended use of the distribution. Best practices are to avoid repeating code unecessarily and take advantage of the hard work that others have done before you. As Newton said: \"If I have seen further it is because I stood on the shoulders of giants\". You'll need to take care to avoid plaigarism or violating licenses but for one-time academic uses there are almost always ways to do this appropriately. \n",
        "1.\t**Extend the useability:** Sometimes the distribution just isn't intended for your use case. Maybe it requires real-valued data but you want to use complex numbers. Maybe your matrices are too large, or it just doesn't use the right algorithm at a key point, or you need to substitute one function for another. In these cases don't forget to submit a [feature request](https://guides.github.com/features/issues/). \n",
        "1.\t**Fix a \"bug\":** If the distribution has a bug, but you need to use it and can't find solutions in forums and can't wait for a fix (after starting an issue) it makes sense to modify the files where the issue exists. Most people in this situation will also submit their problem and solution to the distribution's [bug tracker](https://guides.github.com/features/issues/). \n",
        "1.\t**Develop a deeper understanding of the algorithm and learn best coding practices:** As a scientist in 2019 you probably have limited training in algorithms and how to code professionally. Few of our elder's needed these skills. If you find yourself frequently using particular functions or libraries, it would be wise for you to understand them well enough to be creative and avoid hidden pit-falls.  Furthermore, we scientists write awful code. Take advantage of the opportunity to see the habits and tricks python (or other) community uses. \n",
        "\n",
        "## What are the problems?\n",
        "\n",
        "1.\t**Breaking things:** If you do this incorrectly, your modifications may be lost at the next update, or that new update or other distribution may become incompatible with your modified distribution, other people may not be able to use your work, or if your computing resources are shared, you may destroy functionality for your collegues. \n",
        "2.\t**Losing track of what’s been modified:** If you do this wrong you may forget you made a change and get unexpected behavior in the future. You may forget what modifications you made and not be able to restore the previous function. \n",
        "3.\t**Violating licenses:** We cannot and do not offer legal advice, only speculation and hear-say from the internet. It is often (usually?) the case that you cannot distribute modified versions of distributions. This means you can't put it in a public github or link to it on a website. When sharing *parts* of a distribution you should always explicitly credit the original distribution or better yet the authors, and mark your changes so that it is obvious. Read [the license](https://en.wikipedia.org/wiki/Free_software_license) and be aware of what you need to do. As a scientist doing non-commercial research you are probably permitted to use it and to share it with colleagues via personal communition. This is not legal advice.\n",
        "\n",
        "\n",
        "## Contents\n",
        "\n",
        ">### 1. Simplest: Copy and move the specific function you want to modify\n",
        ">### 2. Most recommended: Install an editable version and use alongside the old\n",
        ">### 3. Also recommended: Do it in a virtual environment and separate from the old module\n",
        ">### 4. Lazy and Unwise: Modify in place\n",
        "\n",
        "\n"
      ]
    },
    {
      "cell_type": "markdown",
      "metadata": {
        "id": "56KzEq2ET0Lv",
        "colab_type": "text"
      },
      "source": [
        "# Simplest: Copy and move the specific function you want to modify"
      ]
    },
    {
      "cell_type": "markdown",
      "metadata": {
        "colab_type": "text",
        "id": "BvqRXbVfVdR2"
      },
      "source": [
        "This may be the best option for a research scientist, although it is not frequently recommended in online forums. When a scientist wants to modify a library it's usually because we want to accomodate a very unique situation. Thus we will heavily modify it, perhaps even using it as the skeleton for a new analysis pipeline. \n",
        "\n",
        "\n",
        "The jist is to copy and paste code snippets into a new file, or find a file and move it to a new folder, then make changes there. This is sometimes troublesome because the snippets or files were *inside* of a much larger module. The code may assume that other functions, variables, or modules are available. Usually it is not too tedious to move those requirements alongside your targeted snippet or file, add new lines to import the modules needed, or to change the references so that they work in the new context. \n",
        "\n",
        "## Let's tweak Scikit-Learn's Multi-Layer Perceptron\n",
        "We are going to use a different objective function so that the MLP optimizes mutual information with prediction and real value rather than cross entropy.\n",
        "\n",
        "For our illustration we will be running a simple example from [https://scikit-learn.org/stable/modules/neural_networks_supervised.html#multi-layer-perceptron](https://scikit-learn.org/stable/modules/neural_networks_supervised.html#multi-layer-perceptron)\n",
        "\n",
        ">Our main goal is to modify two lines:    \n",
        ">The line: `loss = LOSS_FUNCTIONS[loss_func_name](y, activations[-1])`    \n",
        ">Is commented out and we add the line: `loss = -1.0*mutual_info_score(y.flatten(),activations[-1].flatten())`\n",
        ">\n",
        ">We also add a print statement so we never forget we modified something: `print('this modified version of sklearn MLP classifier uses mutual information')`"
      ]
    },
    {
      "cell_type": "code",
      "metadata": {
        "id": "LY3IotuNDQ9g",
        "colab_type": "code",
        "colab": {}
      },
      "source": [
        "# MAKE SURE REQUIREMENTS ARE MET\n",
        "\n",
        "# make sure sklearn is installed\n",
        "#!pip install scikit-learn\n",
        "\n",
        "# copy the imports from the example\n",
        "from sklearn.neural_network import MLPClassifier"
      ],
      "execution_count": 0,
      "outputs": []
    },
    {
      "cell_type": "markdown",
      "metadata": {
        "id": "BJA0XUEG4oUC",
        "colab_type": "text"
      },
      "source": [
        "## Make the changes needed\n",
        "\n",
        "### Find the files to modify\n",
        "If using python 3.6, pip installs packages to: `/usr/local/lib/python3.6/dist-packages/` and likewise for other 3.+ python versions. This will be different for windows or if you are using anaconda.\n",
        ">\n",
        "See the import line above: \"`from sklearn.neural_network import MLPClassifier`\"? \n",
        "\n",
        "That means there is a folder \"`sklearn/neural_network`\" and either a file, folder, class, or function called \"`MLPClassifier`\".  All this is located within `/usr/local/lib/python3.6/dist-packages/`\n",
        ">\n",
        "Navigate to `/usr/local/lib/python3.6/dist-packages/sklearn/neural_network`\n",
        "Notice the file \"`multilayer_perceptron.py`\". Open it and inside there is a class: \"`MLPClassifier`\". We won't have you copy it into a cell and modify it, the file has too many lines. We already made the changes and will show you.\n",
        ">\n",
        ">\n",
        ">\n",
        "### Note that we also needed to change the imports because they are now broken.\n",
        "\n",
        "**example of import from sklearn trunk (two dots)**\n",
        "\n",
        "*old file*\n",
        "`from ..base import BaseEstimator, ClassifierMixin, RegressorMixin`\n",
        "\n",
        "*new file*\n",
        "`from sklearn.base import BaseEstimator, ClassifierMixin, RegressorMixin`\n",
        "\n",
        "**example of import from the folder containing multilayer_perceptron.py (one dot)**\n",
        "\n",
        "*old file*\n",
        "`from ._base import ACTIVATIONS, DERIVATIVES, LOSS_FUNCTIONS`\n",
        "\n",
        "*new file*\n",
        "`from sklearn.neural_network._base import ACTIVATIONS, DERIVATIVES, LOSS_FUNCTIONS`\n",
        "\n"
      ]
    },
    {
      "cell_type": "code",
      "metadata": {
        "id": "_e3q8HOUqdKf",
        "colab_type": "code",
        "outputId": "e6152900-b35c-436a-a288-83bdd3998970",
        "colab": {
          "base_uri": "https://localhost:8080/",
          "height": 224
        }
      },
      "source": [
        "# this cell downloads the modified file and puts it in the current working directory\n",
        "# first we delete any old versions you might have from a previous run\n",
        "!rm MLP_jkj_mod.py\n",
        "# now we download a fresh file using wget\n",
        "!wget https://raw.githubusercontent.com/jojker/PML_Workshops/master/Summer%202019/Day%201%20-%20Process%20and%20Design%20for%20Rapid%20Progress/Ex%204%20-%20Modifying%20python%20libraries/MLP_jkj_mod.py"
      ],
      "execution_count": 0,
      "outputs": [
        {
          "output_type": "stream",
          "text": [
            "--2019-07-11 21:13:29--  https://raw.githubusercontent.com/jojker/PML_Workshops/master/Summer%202019/Day%201%20-%20Process%20and%20Design%20for%20Rapid%20Progress/Ex%204%20-%20Modifying%20python%20libraries/MLP_jkj_mod.py\n",
            "Resolving raw.githubusercontent.com (raw.githubusercontent.com)... 151.101.0.133, 151.101.64.133, 151.101.128.133, ...\n",
            "Connecting to raw.githubusercontent.com (raw.githubusercontent.com)|151.101.0.133|:443... connected.\n",
            "HTTP request sent, awaiting response... 200 OK\n",
            "Length: 53224 (52K) [text/plain]\n",
            "Saving to: ‘MLP_jkj_mod.py’\n",
            "\n",
            "\rMLP_jkj_mod.py        0%[                    ]       0  --.-KB/s               \rMLP_jkj_mod.py      100%[===================>]  51.98K  --.-KB/s    in 0.03s   \n",
            "\n",
            "2019-07-11 21:13:29 (1.45 MB/s) - ‘MLP_jkj_mod.py’ saved [53224/53224]\n",
            "\n"
          ],
          "name": "stdout"
        }
      ]
    },
    {
      "cell_type": "code",
      "metadata": {
        "id": "TJwpnKj9rGz4",
        "colab_type": "code",
        "colab": {}
      },
      "source": [
        "# import the modified version\n",
        "# we have to tell python where to look\n",
        "import sys\n",
        "import os\n",
        "sys.path.append(os.getcwd())\n",
        "# here is the actual import\n",
        "from MLP_jkj_mod import MLPClassifier_jkjMod  "
      ],
      "execution_count": 0,
      "outputs": []
    },
    {
      "cell_type": "code",
      "metadata": {
        "id": "p9j7mKsj3k27",
        "colab_type": "code",
        "outputId": "126eb54b-ef93-480d-849e-d941fe8cf2dc",
        "colab": {
          "base_uri": "https://localhost:8080/",
          "height": 34
        }
      },
      "source": [
        "# initialize test data and compare versions\n",
        "X = [[0., 0.], [1., 1.]]\n",
        "y = [0, 1]\n",
        "clf = MLPClassifier(solver='sgd', alpha=1e-5, hidden_layer_sizes=(5, 2), random_state=1)\n",
        "clf_mod = MLPClassifier_jkjMod(solver='sgd', alpha=1e-5, hidden_layer_sizes=(5, 2), random_state=1)"
      ],
      "execution_count": 0,
      "outputs": [
        {
          "output_type": "stream",
          "text": [
            "this modified version of sklearn MLP classifier uses mutual information\n"
          ],
          "name": "stdout"
        }
      ]
    },
    {
      "cell_type": "code",
      "metadata": {
        "id": "UqQID_7v309q",
        "colab_type": "code",
        "outputId": "efd8af97-7bc7-4bf7-a3e3-b37d37f06add",
        "colab": {
          "base_uri": "https://localhost:8080/",
          "height": 88
        }
      },
      "source": [
        "# train the old classifier\n",
        "clf.fit(X, y)\n",
        "# test the old classifier\n",
        "clf.predict([[2., 2.], [-1., -2.]])"
      ],
      "execution_count": 0,
      "outputs": [
        {
          "output_type": "stream",
          "text": [
            "/usr/local/lib/python3.6/dist-packages/sklearn/neural_network/multilayer_perceptron.py:566: ConvergenceWarning: Stochastic Optimizer: Maximum iterations (200) reached and the optimization hasn't converged yet.\n",
            "  % self.max_iter, ConvergenceWarning)\n"
          ],
          "name": "stderr"
        },
        {
          "output_type": "execute_result",
          "data": {
            "text/plain": [
              "array([1, 0])"
            ]
          },
          "metadata": {
            "tags": []
          },
          "execution_count": 23
        }
      ]
    },
    {
      "cell_type": "code",
      "metadata": {
        "id": "YJWNRfk536vp",
        "colab_type": "code",
        "outputId": "cf0618c9-a12b-47fd-db6b-98d8d55b8c0c",
        "colab": {
          "base_uri": "https://localhost:8080/",
          "height": 34
        }
      },
      "source": [
        "# train the new classifier\n",
        "clf_mod.fit(X, y)\n",
        "# test the new classifier\n",
        "clf_mod.predict([[2., 2.], [-1., -2.]])"
      ],
      "execution_count": 0,
      "outputs": [
        {
          "output_type": "execute_result",
          "data": {
            "text/plain": [
              "array([1, 0])"
            ]
          },
          "metadata": {
            "tags": []
          },
          "execution_count": 5
        }
      ]
    },
    {
      "cell_type": "markdown",
      "metadata": {
        "id": "oq99qpojUDya",
        "colab_type": "text"
      },
      "source": [
        "# Most recommended: Install an editable version and use alongside the old"
      ]
    },
    {
      "cell_type": "markdown",
      "metadata": {
        "id": "Ke6gRm4dXj0v",
        "colab_type": "text"
      },
      "source": [
        "From reading forums and blog posts one gets the impression that software developers use the biggest, bluntest tool available. In this case that means \"forking\" the entire distribution to a new folder in your computer and modifying it in place there. This solution mostly avoids the challenge of broken requirements of the previous method. However it poses a new challenge, which is keeping track of the changes you made. Version control software, such as git, is designed to help with this and is a requirement to use this approach. However, that adds a new skill for research scientists to learn and it isn't user-friendly when compared to isolating all your changes to a specific and separate folder. \n",
        "\n",
        "This is  a very good option nonetheless and if you get in the habit of marking your changes with a comment such as `#TRACK-CHANGE 06/29/2019 changed xxx to xxx and added xxx` you will be able to find them easily by using a text search feature in your file explorer, without having to search through a \"diff\" command in github (we'll show you that anyway). "
      ]
    },
    {
      "cell_type": "code",
      "metadata": {
        "id": "OhEb3o5HUYVY",
        "colab_type": "code",
        "outputId": "51837842-6fa7-4f07-c8a7-8972c6480ce4",
        "colab": {
          "base_uri": "https://localhost:8080/",
          "height": 238
        }
      },
      "source": [
        "# install with editable mode\n",
        "!pip install -e git+https://github.com/scikit-learn/scikit-learn#egg=skl_jkjMod"
      ],
      "execution_count": 0,
      "outputs": [
        {
          "output_type": "stream",
          "text": [
            "Obtaining skl_jkjMod from git+https://github.com/scikit-learn/scikit-learn#egg=skl_jkjMod\n",
            "  Cloning https://github.com/scikit-learn/scikit-learn to ./src/skl-jkjmod\n",
            "  Running command git clone -q https://github.com/scikit-learn/scikit-learn /content/src/skl-jkjmod\n",
            "\u001b[33m  WARNING: Generating metadata for package skl-jkjMod produced metadata for project name scikit-learn. Fix your #egg=skl-jkjMod fragments.\u001b[0m\n",
            "Requirement already satisfied: numpy>=1.11.0 in /usr/local/lib/python3.6/dist-packages (from scikit-learn) (1.16.4)\n",
            "Requirement already satisfied: scipy>=0.17.0 in /usr/local/lib/python3.6/dist-packages (from scikit-learn) (1.3.0)\n",
            "Requirement already satisfied: joblib>=0.11 in /usr/local/lib/python3.6/dist-packages (from scikit-learn) (0.13.2)\n",
            "Installing collected packages: scikit-learn\n",
            "  Found existing installation: scikit-learn 0.21.2\n",
            "    Uninstalling scikit-learn-0.21.2:\n",
            "      Successfully uninstalled scikit-learn-0.21.2\n",
            "  Running setup.py develop for scikit-learn\n",
            "Successfully installed scikit-learn\n"
          ],
          "name": "stdout"
        }
      ]
    },
    {
      "cell_type": "markdown",
      "metadata": {
        "id": "OPeswRbg9jYc",
        "colab_type": "text"
      },
      "source": [
        "## Make the changes needed\n",
        "\n",
        "### Find the files to modify\n",
        "Now pip just installs to your current working directing `/content/src/`. It also installs the package under your egg name. In this case it's `skl_jkjMod`.\n",
        ">\n",
        "That means that now there is a folder \"`/content/src/skl_jkjMod/sklearn/neural_network`\" and either a file, folder, class, or function called \"`MLPClassifier`\".\n",
        ">\n",
        "Navigate to that folder an notice the file \"`multilayer_perceptron.py`\". Open it and inside there is a class: \"`MLPClassifier`\". We are going to replace one line and add a print statement. These are the same core changes from the previous section but we no longer need to change the imports. "
      ]
    },
    {
      "cell_type": "code",
      "metadata": {
        "id": "PgLEd7Ry9XHz",
        "colab_type": "code",
        "outputId": "09e4c760-e3b2-4ce2-99b6-a4b649fe0def",
        "colab": {
          "base_uri": "https://localhost:8080/",
          "height": 232
        }
      },
      "source": [
        "# run before making modifications\n",
        "# tell python to look in current folder\n",
        "import sys\n",
        "import os\n",
        "sys.path.append(os.getcwd())\n",
        "# note the import uses the egg name\n",
        "from skl_jkjMod.sklearn.neural_network import MLPClassifier\n",
        "\n",
        "X = [[0., 0.], [1., 1.]]\n",
        "y = [0, 1]\n",
        "clf = MLPClassifier(solver='sgd', alpha=1e-5, hidden_layer_sizes=(5, 2), random_state=1)\n",
        "# train the old classifier\n",
        "clf.fit(X, y)\n",
        "# test the old classifier\n",
        "clf.predict([[2., 2.], [-1., -2.]])"
      ],
      "execution_count": 0,
      "outputs": [
        {
          "output_type": "error",
          "ename": "AttributeError",
          "evalue": "ignored",
          "traceback": [
            "\u001b[0;31m---------------------------------------------------------------------------\u001b[0m",
            "\u001b[0;31mAttributeError\u001b[0m                            Traceback (most recent call last)",
            "\u001b[0;32m<ipython-input-6-bb0765c15432>\u001b[0m in \u001b[0;36m<module>\u001b[0;34m()\u001b[0m\n\u001b[1;32m      1\u001b[0m \u001b[0;32mimport\u001b[0m \u001b[0msys\u001b[0m\u001b[0;34m\u001b[0m\u001b[0;34m\u001b[0m\u001b[0m\n\u001b[1;32m      2\u001b[0m \u001b[0;32mimport\u001b[0m \u001b[0mos\u001b[0m\u001b[0;34m\u001b[0m\u001b[0;34m\u001b[0m\u001b[0m\n\u001b[0;32m----> 3\u001b[0;31m \u001b[0msys\u001b[0m\u001b[0;34m.\u001b[0m\u001b[0mpath\u001b[0m\u001b[0;34m.\u001b[0m\u001b[0mappend\u001b[0m\u001b[0;34m(\u001b[0m\u001b[0mos\u001b[0m\u001b[0;34m.\u001b[0m\u001b[0mcwd\u001b[0m\u001b[0;34m)\u001b[0m\u001b[0;34m\u001b[0m\u001b[0;34m\u001b[0m\u001b[0m\n\u001b[0m\u001b[1;32m      4\u001b[0m \u001b[0;31m# note the import uses the egg name\u001b[0m\u001b[0;34m\u001b[0m\u001b[0;34m\u001b[0m\u001b[0;34m\u001b[0m\u001b[0m\n\u001b[1;32m      5\u001b[0m \u001b[0;32mfrom\u001b[0m \u001b[0mskl_jkjMod\u001b[0m\u001b[0;34m.\u001b[0m\u001b[0msklearn\u001b[0m\u001b[0;34m.\u001b[0m\u001b[0mneural_network\u001b[0m \u001b[0;32mimport\u001b[0m \u001b[0mMLPClassifier\u001b[0m\u001b[0;34m\u001b[0m\u001b[0;34m\u001b[0m\u001b[0m\n",
            "\u001b[0;31mAttributeError\u001b[0m: module 'os' has no attribute 'cwd'"
          ]
        }
      ]
    },
    {
      "cell_type": "markdown",
      "metadata": {
        "id": "D2C0134z_ZLU",
        "colab_type": "text"
      },
      "source": [
        "# DO THIS\n",
        "### Download the file, make changes, delete the server copy and upload your modified file. Finally restart the runtime so the changes take effect. Run this next cell, skipping the previous cells."
      ]
    },
    {
      "cell_type": "code",
      "metadata": {
        "id": "V5yz3X2k_3iJ",
        "colab_type": "code",
        "colab": {}
      },
      "source": [
        "# run after making modifications\n",
        "# tell python to look in current folder\n",
        "import sys\n",
        "import os\n",
        "sys.path.append(os.cwd)\n",
        "# re-import\n",
        "from skl_jkjMod.sklearn.neural_network import MLPClassifier\n",
        "\n",
        "X = [[0., 0.], [1., 1.]]\n",
        "y = [0, 1]\n",
        "clf = MLPClassifier(solver='sgd', alpha=1e-5, hidden_layer_sizes=(5, 2), random_state=1)\n",
        "# train the new classifier\n",
        "clf.fit(X, y)\n",
        "# test the new classifier\n",
        "clf.predict([[2., 2.], [-1., -2.]])"
      ],
      "execution_count": 0,
      "outputs": []
    },
    {
      "cell_type": "code",
      "metadata": {
        "id": "pGkyXxCKFcuX",
        "colab_type": "code",
        "colab": {}
      },
      "source": [
        "# run the original version which is still installed in a different location\n",
        "\n",
        "# conventional import\n",
        "from sklearn.neural_network import MLPClassifier\n",
        "\n",
        "X = [[0., 0.], [1., 1.]]\n",
        "y = [0, 1]\n",
        "clf = MLPClassifier(solver='sgd', alpha=1e-5, hidden_layer_sizes=(5, 2), random_state=1)\n",
        "# train the new classifier\n",
        "clf.fit(X, y)\n",
        "# test the new classifier\n",
        "clf.predict([[2., 2.], [-1., -2.]])"
      ],
      "execution_count": 0,
      "outputs": []
    },
    {
      "cell_type": "markdown",
      "metadata": {
        "id": "11sU3giCCWoq",
        "colab_type": "text"
      },
      "source": [
        "### Uninstalling an editable version is tedious\n",
        "Normally you can uninstall with `pip uninstall PACKAGE_NAME`, but with editable packages you have to delete the files yourself."
      ]
    },
    {
      "cell_type": "code",
      "metadata": {
        "id": "98wEaDGjCVpM",
        "colab_type": "code",
        "colab": {}
      },
      "source": [
        "# now we laboriously uninstall the modifiable sklearn\n",
        "!rm -r $(find /usr/local/lib/python3.6/dist-packages -name 'scikit*.egg*')\n",
        "!rm -r $(find /usr/local/lib/python3.6/dist-packages/ -name 'skl_jkjMod*.egg*')\n",
        "!rm -r $(find /usr/local/lib/python3.6/dist-packages -name 'sklearn*.egg*')\n",
        "!rm -r ./src/skl_jkjMod"
      ],
      "execution_count": 0,
      "outputs": []
    },
    {
      "cell_type": "markdown",
      "metadata": {
        "id": "3HCDdS8gAkm1",
        "colab_type": "text"
      },
      "source": [
        "## Advanced topic: Distributions that make it hard to install in editable mode\n",
        "\n",
        "Tensorflow is a big and complicated distribution. Either intentionally or not the developers have placed obstacles in your ability to install in editable mode. Nonetheless you can with some simple modifications to the steps above."
      ]
    },
    {
      "cell_type": "code",
      "metadata": {
        "id": "7bOAlDCHA8vr",
        "colab_type": "code",
        "colab": {}
      },
      "source": [
        "# will give error message because tensorflow devs are meanies\n",
        "!pip install -e git+https://github.com/tensorflow/tensorflow#egg=tFforScience"
      ],
      "execution_count": 0,
      "outputs": []
    },
    {
      "cell_type": "code",
      "metadata": {
        "id": "2Gyz1LD-Bdk_",
        "colab_type": "code",
        "colab": {}
      },
      "source": [
        "# we have to copy the pip setup file to the correct (non-meany) location\n",
        "!cp /content/src/tfforscience/tensorflow/tools/pip_package/setup.py /content/src/tfforscience/setup.py"
      ],
      "execution_count": 0,
      "outputs": []
    },
    {
      "cell_type": "code",
      "metadata": {
        "id": "LNfTOZKxBll5",
        "colab_type": "code",
        "colab": {}
      },
      "source": [
        "# now we can try again EXCEPT that we already have the files we just need to tell pip where to find them\n",
        "!pip install -e /content/src/tfforscience/"
      ],
      "execution_count": 0,
      "outputs": []
    },
    {
      "cell_type": "code",
      "metadata": {
        "id": "CvdWFJliB85r",
        "colab_type": "code",
        "colab": {}
      },
      "source": [
        "# tell python to look in current folder\n",
        "import sys\n",
        "import os\n",
        "sys.path.append(os.cwd)\n",
        "import tfforscience as tffs\n",
        "import tensorflow as tf"
      ],
      "execution_count": 0,
      "outputs": []
    },
    {
      "cell_type": "code",
      "metadata": {
        "id": "0mR7kHeOCLDt",
        "colab_type": "code",
        "colab": {}
      },
      "source": [
        "# now we laboriously uninstall the modifiable tensorflow\n",
        "!rm -r $(find /usr/local/lib/python3.6/dist-packages -name 'tensorflow*.egg*')\n",
        "!rm -r $(find /usr/local/lib/python3.6/dist-packages/ -name 'tfforscience*.egg*')\n",
        "!rm -r ./src/tfforscience"
      ],
      "execution_count": 0,
      "outputs": []
    },
    {
      "cell_type": "markdown",
      "metadata": {
        "id": "bNJcLpLNUGrW",
        "colab_type": "text"
      },
      "source": [
        "# Also recommended: Do it in a virtual environment and separate from the old module"
      ]
    },
    {
      "cell_type": "markdown",
      "metadata": {
        "id": "Ux43-ubNZwBy",
        "colab_type": "text"
      },
      "source": [
        "When you modify a distribution in place, even an editable version, future updates may break the requirements of your modified code. A solution is to create a \"virtual environment\" that has all the requirements you need to run your code and only those requirements. This is also useful if you are modifying specific functions, you can freeze the requirements so that it will always run. \n",
        "\n",
        "If you \"freeze\" a lot of distributions the hard-disk requirments can add up. You can also forget which virtual environment does what, or simply forget you are **in** a virtual environment and accidentally break it. It does require some set up steps and maintenance which adds a step everytime you use your code. "
      ]
    },
    {
      "cell_type": "markdown",
      "metadata": {
        "id": "wgZXSwK8Jfiu",
        "colab_type": "text"
      },
      "source": [
        "### create a virtual environment directory"
      ]
    },
    {
      "cell_type": "code",
      "metadata": {
        "id": "YrvOXHCEUZcB",
        "colab_type": "code",
        "colab": {}
      },
      "source": [
        "# install a python package that sets up virtual environments\n",
        "!pip install virtualenv"
      ],
      "execution_count": 0,
      "outputs": []
    },
    {
      "cell_type": "code",
      "metadata": {
        "id": "kNfzEqRmGomB",
        "colab_type": "code",
        "colab": {}
      },
      "source": [
        "# this creates a virtual environment\n",
        "!virtualenv /content/modLibEnv"
      ],
      "execution_count": 0,
      "outputs": []
    },
    {
      "cell_type": "code",
      "metadata": {
        "id": "i_sBwdqsGoxg",
        "colab_type": "code",
        "colab": {}
      },
      "source": [
        "# the new environment has nothing installed\n",
        "# get a list of everything installed on your default system\n",
        "!pip freeze  > /content/modLibEnv/requirements.txt\n",
        "# edit the requirements text file to eliminate packages that are not necessary for your project"
      ],
      "execution_count": 0,
      "outputs": []
    },
    {
      "cell_type": "markdown",
      "metadata": {
        "id": "FJ2-7tyvJo1r",
        "colab_type": "text"
      },
      "source": [
        "### finish configuring your virtual environment \n",
        "These steps won't work in colab but will work on anaconda or local systems. The reason it won't work is because you have to run the first command *before* opening a python notebook."
      ]
    },
    {
      "cell_type": "code",
      "metadata": {
        "id": "1MuBtoq0Go8M",
        "colab_type": "code",
        "colab": {}
      },
      "source": [
        "# \"activate\" the virtual environment \n",
        "!source /content/modLibEnv/bin/activate"
      ],
      "execution_count": 0,
      "outputs": []
    },
    {
      "cell_type": "code",
      "metadata": {
        "id": "EozP90LALfHd",
        "colab_type": "code",
        "colab": {}
      },
      "source": [
        "# double check that your environment is pointing to the right place\n",
        "!echo $PATH\n",
        "# should be /content/modLibEnv/"
      ],
      "execution_count": 0,
      "outputs": []
    },
    {
      "cell_type": "code",
      "metadata": {
        "id": "LJ1V6Ko1G7c7",
        "colab_type": "code",
        "colab": {}
      },
      "source": [
        "# install packages into your new environment\n",
        "!pip install -r /content/modLibEnv/requirements.txt"
      ],
      "execution_count": 0,
      "outputs": []
    },
    {
      "cell_type": "code",
      "metadata": {
        "id": "ympHBdKNG_w1",
        "colab_type": "code",
        "colab": {}
      },
      "source": [
        "# If you want your python to find scripts you wrote you need to add their \n",
        "# containing folders to the PYTHONPATH\n",
        "!export PYTHONPATH=\"${PYTHONPATH}:/my/other/path/\""
      ],
      "execution_count": 0,
      "outputs": []
    },
    {
      "cell_type": "code",
      "metadata": {
        "id": "QWauSS_NHAqw",
        "colab_type": "code",
        "colab": {}
      },
      "source": [
        "# double check your changes\n",
        "!echo $PYTHONPATH"
      ],
      "execution_count": 0,
      "outputs": []
    },
    {
      "cell_type": "markdown",
      "metadata": {
        "id": "TH5WksYAMRim",
        "colab_type": "text"
      },
      "source": [
        "### Colab compatible check\n",
        "By putting several commands on one line it will let us see what to expect"
      ]
    },
    {
      "cell_type": "code",
      "metadata": {
        "id": "axsRP3XDMOAY",
        "colab_type": "code",
        "colab": {}
      },
      "source": [
        "# check the path \n",
        "!source /content/modLibEnv/bin/activate && !echo $PATH"
      ],
      "execution_count": 0,
      "outputs": []
    },
    {
      "cell_type": "code",
      "metadata": {
        "id": "rwotXSzDMuq0",
        "colab_type": "code",
        "colab": {}
      },
      "source": [
        "# check the python path before the modification\n",
        "!source /content/modLibEnv/bin/activate && !echo $PYTHONPATH"
      ],
      "execution_count": 0,
      "outputs": []
    },
    {
      "cell_type": "code",
      "metadata": {
        "id": "z5SMycFOM2la",
        "colab_type": "code",
        "colab": {}
      },
      "source": [
        "# check the python path before the modification\n",
        "!source /content/modLibEnv/bin/activate && export PYTHONPATH=\"${PYTHONPATH}:/content/sample_data/\" && echo $PYTHONPATH"
      ],
      "execution_count": 0,
      "outputs": []
    },
    {
      "cell_type": "markdown",
      "metadata": {
        "id": "yBJIx4YSNThd",
        "colab_type": "text"
      },
      "source": [
        "### How to delete the virutal environment"
      ]
    },
    {
      "cell_type": "code",
      "metadata": {
        "id": "cWStQ1ScHDp2",
        "colab_type": "code",
        "colab": {}
      },
      "source": [
        "# delete a virtual environment\n",
        "!deactivate\n",
        "!rm -r /content/modLibEnv"
      ],
      "execution_count": 0,
      "outputs": []
    },
    {
      "cell_type": "markdown",
      "metadata": {
        "id": "ennXl8blUIGK",
        "colab_type": "text"
      },
      "source": [
        "# Lazy and Unwise: Modify in place"
      ]
    },
    {
      "cell_type": "markdown",
      "metadata": {
        "id": "4iRj7dg2axS7",
        "colab_type": "text"
      },
      "source": [
        "Since we showed you here the python library's files are, you could always just go and tweak those. People usually do this because they encountered an unsolved bug or unmet need and didn't feel like they had the time to google the proper method, or because they couldn't think of a useful google search phrase and gave up looking. This is asking for trouble. If you do this, always keep track of what you did and comeback later to do it correctly. \n",
        "\n",
        "A better version of this hack is to do this in a virtual environment, you will still break updates within that virtual environment and it may be a headache to use your code outside the environment (e.g. sharing it). However, some distributions make it hard to install an editable version. So making your tweaks in a virtual environment lets you take the time to figure out what changes are required while limiting the broken software to the virtual environment. Then you can go back and copy out just the portions you figured out you need to change. Remember to delete all traces of the virtual environment when you are done using it (or lock it in an archive for posterity). "
      ]
    }
  ]
}