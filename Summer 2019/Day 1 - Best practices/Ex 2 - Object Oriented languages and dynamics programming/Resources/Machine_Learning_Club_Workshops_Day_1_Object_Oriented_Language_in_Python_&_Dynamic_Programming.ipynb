{
  "nbformat": 4,
  "nbformat_minor": 0,
  "metadata": {
    "colab": {
      "name": "Machine Learning Club Workshops --- Day 1 --- Object Oriented Language in Python & Dynamic Programming",
      "version": "0.3.2",
      "provenance": [],
      "collapsed_sections": []
    },
    "kernelspec": {
      "name": "python3",
      "display_name": "Python 3"
    }
  },
  "cells": [
    {
      "cell_type": "markdown",
      "metadata": {
        "id": "J5Z8eXKL9EBj",
        "colab_type": "text"
      },
      "source": [
        "# What you'll learn from this tutorial\n",
        "\n",
        "1. Object-Oriented Programming (OOP) concepts.\n",
        "2. Applications of OOP in Python.\n",
        "\n",
        "This tutorial requires some basic knowledge of Python 3, however it can be completed without familiarity with the topic."
      ]
    },
    {
      "cell_type": "markdown",
      "metadata": {
        "id": "ld8McgV8ANVI",
        "colab_type": "text"
      },
      "source": [
        "# What is Object-Oriented Programming & What Problems does it Solve?\n",
        "\n",
        "Imagine you've been requested to determine a way to classify all the traits of the various Pokemon in a way that applies to all. Given that there are 151 Generation 1 Pokemon and there are different types, movesets, different number of legs, etc. this can be a daunting task if we were to do this using procedural programming.\n",
        "\n",
        "<figure>\n",
        "  <img alt=\"Pokemon\" src=\"https://hips.hearstapps.com/digitalspyuk.cdnds.net/16/29/1468964850-maxresdefault-2.jpg\" align=\"center\"/>\n",
        "  <figcaption><b>Figure 1: </b><i>How can classify the different generation 1 pokemon? This problem can be solved with object-oriented programming.</i> Image source: <a href=\"https://hips.hearstapps.com/digitalspyuk.cdnds.net\">https://hips.hearstapps.com/digitalspyuk.cdnds.net</a></figcaption>\n",
        "</figure>\n",
        "\n",
        "As our dataset and problem has many traits that are common to each item, we can use the Object-Oriented Programming paradigm to address this issue.\n",
        "\n",
        "### Concepts\n",
        "\n",
        "Programming languages define the grammatical rules and syntax for writing and executing instructions, called programs, that can be used to perform tasks. Different programming languages support various paradigms and styles, or ways of implementing programs to perform a given task.\n",
        "\n",
        "Before we consider what objected-oriented programming can do, it's useful to consider it in context of other programming paradigms.\n",
        "\n",
        "|    Paradigm              |   Description             |\n",
        "|--------------------------|---------------------------|\n",
        "|    Imperative            | Explicit control flow: commands show how the computation takes place step by step.<br/>Each step affects the global state of the computation.|\n",
        "|    Declarative           | Implicit control flow: the programmer states what the results should look like, not how<br/>to obtain it.|\n",
        "|    Procedural            | Imperative programming with procedure calls.|\n",
        "|    Functional            | Control flow is expressed by combining function calls rather than assigning values<br/>to variables. Computation proceeds by nested function calls that avoid any global state.|\n",
        "|    Object-Oriented       | Objects are defined as combinations of related variables, functions, and procedures<br/> called objects, defined by templates called classes. Computation is effected by <br/>sending messages to objects.|\n",
        "|    Event-Driven          | Control flow is determined by aschyronous actions (e.g. from humans, or sensors).|\n",
        "|    Logic (Rule-based)    | A database of facts and rules are defined, and an engine infers the answers to questions.|\n",
        "\n",
        "<figure>\n",
        "  <figcaption><b>Table 1:</b> <i>Common programming language paradigms</i></figcaption>\n",
        "</figure>\n"
      ]
    },
    {
      "cell_type": "markdown",
      "metadata": {
        "id": "f2380Vbh6j_e",
        "colab_type": "text"
      },
      "source": [
        "## Object-Oriented Programming\n",
        "\n",
        "Object-oriented programming (OOP) is unique in that it allows one to create programs in a structured manner that integrates related data as well as functions (called methods) together in a single unit called _an object_. The template which defines an object is called _a class_, which means that an object is _an instance_ of a class.\n",
        "\n",
        "<figure>\n",
        "  <img alt=\"Class Instances\" src=\"https://docs.sencha.com/extjs/6.0.2/guides/other_resources/images/classes_instances.png\" align=\"center\"/>\n",
        "  <figcaption><b>Figure 2: </b><i>Classes and Objects</i>. Source: <a href=\"https://docs.sencha.com\">https://docs.sencha.com</a></figcaption>\n",
        "</figure>\n",
        "\n",
        "The process of combining related data and functions into objects is called _encapsulation_.\n",
        "\n",
        "<figure>\n",
        "  <img alt=\"Class Instances\" src=\"https://androidstudy.com/wp-content/uploads/2017/09/Screenshot-from-2017-09-24-01.16.00.png\" align=\"center\"/>\n",
        "  <figcaption><b>Figure 3: </b><i>Representing Pokemon attributes as an object - Pikachu is an instance of a Pokemon.</i> Source: <a href=\"https://androidstudy.com\">https://androidstudy.com</a></figcaption>\n",
        "</figure>\n",
        "\n",
        "Although describing our problem can be achieved with other approaches (e.g. procedural programming), since our data has many structural commonalities, OOP is best suited to problem. However, that decision is not universal since the choice of a programming paradigm reflects the problem being solved in context of applicability, domain knowledge, and ease of maintenance. Because of these reasons, few programming languages strictly implement a single paradigm and support several paradigms. \n",
        "\n",
        "And, when we also consider [Turing-completeness and equivalence](https://en.wikipedia.org/wiki/Turing_completeness), given enough time and memory, two distinct Turing-complete languages can be programmed to solve the same problem if the solution can be implemented in one of those languages. This means that if we can implement a solution in one programming language or paradigm, we can implement the same or similar solution in another style or programming language.\n",
        "\n"
      ]
    },
    {
      "cell_type": "markdown",
      "metadata": {
        "id": "i5GJqYv0-Sph",
        "colab_type": "text"
      },
      "source": [
        "# OOP in Python\n",
        "\n",
        "Let's define our first class in Python:\n",
        "\n",
        "```python\n",
        "class Dog:\n",
        "    pass\n",
        "```\n",
        "\n",
        "All classes begin with a captial letter. The above definition is an empty class definition since there are no attributes. We use the `pass` keyword here, which is a placeholder for where code eventually will go. Doing so allows us to run the code without throwing an error.\n",
        "\n",
        "All classes create objects, and all objects contain characteristics called attributes (referred to as properties in the opening paragraph). Use the `__init__()` method to initialize (e.g., specify) an object’s initial attributes by giving them their default value (or state). This method must have at least one argument as well as the self variable, which refers to the object itself (e.g., Dog).\n",
        "\n",
        "```python\n",
        "class Dog:\n",
        "    # Initializer / Constructor with instance attributes\n",
        "    def __init__(self, name, age):\n",
        "        self.name = name\n",
        "        self.age = age\n",
        "```\n",
        "\n",
        "In the case of our `Dog()` class, each dog has a specific name and age, which is obviously important to know for when you start actually creating different dogs. Remember: the class is just for defining the Dog, not actually creating instances of individual dogs with specific names and ages; we’ll get to that shortly.\n",
        "\n",
        "Similarly, the self variable is also an instance of the class. Since instances of a class have varying values we could state `Dog.name = name` rather than `self.name = name`. But since not all dogs share the same name, we need to be able to assign different values to different instances. Hence the need for the special `self` variable, which will help to keep track of individual instances of each class.\n",
        "\n",
        "Note that we will never have to call the `__init__()` method directly - when we create a new `Dog` instance, this method is called automatically. \n",
        "\n",
        "## Class Attributes\n",
        "\n",
        "While instance attributes are specific to each object, class attributes are the same for all instances—which in this case is _all_ dogs.\n",
        "\n",
        "```python\n",
        "class Dog:\n",
        "    # Class attribute\n",
        "    species = 'mammal'\n",
        "    \n",
        "    # Initializer / Constructor with instance attributes\n",
        "    def __init__(self, name, age):\n",
        "        self.name = name\n",
        "        self.age = age\n",
        "```\n",
        "\n",
        "In this case, each dog will have a unique name and age, but will each have a class attribute that indicates that its species is a mammal. Let's see the dogs in action.\n",
        "\n"
      ]
    },
    {
      "cell_type": "code",
      "metadata": {
        "id": "rk8NBTFeh87q",
        "colab_type": "code",
        "colab": {
          "base_uri": "https://localhost:8080/",
          "height": 34
        },
        "outputId": "bacf9c58-87f1-4095-e85b-0d7f3652e3e4"
      },
      "source": [
        "class Dog:\n",
        "    pass\n",
        "  \n",
        "# Let's create a Dog instance.\n",
        "# (Note the name `__main__.Dog` and memory address - e.g. `0xab...`):\n",
        "Dog()"
      ],
      "execution_count": 4,
      "outputs": [
        {
          "output_type": "execute_result",
          "data": {
            "text/plain": [
              "<__main__.Dog at 0x7f1296aa2668>"
            ]
          },
          "metadata": {
            "tags": []
          },
          "execution_count": 4
        }
      ]
    },
    {
      "cell_type": "code",
      "metadata": {
        "id": "4HNC0lUWi8iP",
        "colab_type": "code",
        "colab": {
          "base_uri": "https://localhost:8080/",
          "height": 34
        },
        "outputId": "15e7e783-9e5b-48e8-9f4f-ba8dfcc6a53d"
      },
      "source": [
        "# Let's create another dog instance.\n",
        "# Again note the name and address of the object.\n",
        "Dog()"
      ],
      "execution_count": 5,
      "outputs": [
        {
          "output_type": "execute_result",
          "data": {
            "text/plain": [
              "<__main__.Dog at 0x7f129622a0f0>"
            ]
          },
          "metadata": {
            "tags": []
          },
          "execution_count": 5
        }
      ]
    },
    {
      "cell_type": "code",
      "metadata": {
        "id": "uARb0QBcjBK9",
        "colab_type": "code",
        "colab": {
          "base_uri": "https://localhost:8080/",
          "height": 34
        },
        "outputId": "067421fe-b63a-4fda-fe59-960cfa31b7f9"
      },
      "source": [
        "# Now, let's create two more instances but assign those instances to\n",
        "# variable names\n",
        "a = Dog()\n",
        "b = Dog()\n",
        "\n",
        "# As shown above, since each instance is unique, we expect that each\n",
        "# instance of `Dog` to be different. This can be tested via:\n",
        "a == b"
      ],
      "execution_count": 6,
      "outputs": [
        {
          "output_type": "execute_result",
          "data": {
            "text/plain": [
              "False"
            ]
          },
          "metadata": {
            "tags": []
          },
          "execution_count": 6
        }
      ]
    },
    {
      "cell_type": "code",
      "metadata": {
        "id": "MlIEBPrRjGZv",
        "colab_type": "code",
        "colab": {
          "base_uri": "https://localhost:8080/",
          "height": 34
        },
        "outputId": "1f35c7fa-4446-470d-edbe-d2c6d954a10b"
      },
      "source": [
        "# We can also determine the type of the class instance by using the `type()`\n",
        "# builtin function\n",
        "c = Dog()\n",
        "type(c)"
      ],
      "execution_count": 7,
      "outputs": [
        {
          "output_type": "execute_result",
          "data": {
            "text/plain": [
              "__main__.Dog"
            ]
          },
          "metadata": {
            "tags": []
          },
          "execution_count": 7
        }
      ]
    },
    {
      "cell_type": "code",
      "metadata": {
        "id": "qZNdAEy7jvzg",
        "colab_type": "code",
        "colab": {
          "base_uri": "https://localhost:8080/",
          "height": 34
        },
        "outputId": "64203d38-fb95-4447-e876-b9d6c80138a1"
      },
      "source": [
        "# Alternatively, we could use the `isinstance` built-in function to directly\n",
        "# determine whether an object is an instance of a certain class:\n",
        "isinstance(c, Dog)"
      ],
      "execution_count": 8,
      "outputs": [
        {
          "output_type": "execute_result",
          "data": {
            "text/plain": [
              "True"
            ]
          },
          "metadata": {
            "tags": []
          },
          "execution_count": 8
        }
      ]
    },
    {
      "cell_type": "code",
      "metadata": {
        "id": "qSIMB0qjkIYP",
        "colab_type": "code",
        "colab": {
          "base_uri": "https://localhost:8080/",
          "height": 51
        },
        "outputId": "4327cc4a-dd6a-4d14-e159-a27747151a93"
      },
      "source": [
        "# Now, let's instantiate some objects and access their attributes\n",
        "class Dog:\n",
        "\n",
        "    # Class Attribute\n",
        "    species = 'mammal'\n",
        "\n",
        "    # Initializer / Instance Attributes\n",
        "    def __init__(self, name, age):\n",
        "        self.name = name\n",
        "        self.age = age\n",
        "\n",
        "\n",
        "# Instantiate the Dog object\n",
        "philo = Dog(\"Philo\", 5)\n",
        "mikey = Dog(\"Mikey\", 6)\n",
        "\n",
        "\n",
        "# Access the instance attributes\n",
        "print(\"{} is {} and {} is {}.\".format(philo.name, \n",
        "                                      philo.age, \n",
        "                                      mikey.name, \n",
        "                                      mikey.age))\n",
        "\n",
        "# Is Philo a mammal?\n",
        "if philo.species == \"mammal\":\n",
        "    print(\"{0} is a {1}!\".format(philo.name, philo.species))"
      ],
      "execution_count": 9,
      "outputs": [
        {
          "output_type": "stream",
          "text": [
            "Philo is 5 and Mikey is 6.\n",
            "Philo is a mammal!\n"
          ],
          "name": "stdout"
        }
      ]
    },
    {
      "cell_type": "markdown",
      "metadata": {
        "id": "vphbtyM5kmrA",
        "colab_type": "text"
      },
      "source": [
        "## What’s Going On?\n",
        "\n",
        "We created a new instance of the `Dog()` class and assigned it to the variable philo. We then passed it two arguments, \"Philo\" and 5, which represent that dog’s name and age, respectively.\n",
        "\n",
        "These attributes are passed to the `__init__` method, which gets called any time you create a new instance, attaching the name and age to the object. You might be wondering why we didn’t have to pass in the self argument.\n",
        "\n",
        "This is Python magic; when you create a new instance of the class, Python automatically determines what self is (a Dog in this case) and passes it to the `__init__` method.\n",
        "\n"
      ]
    },
    {
      "cell_type": "markdown",
      "metadata": {
        "id": "6OOh7dUylg5P",
        "colab_type": "text"
      },
      "source": [
        "# Instance methods\n",
        "\n",
        "Instance methods are defined inside a class and are used to access the contents of an instance. They can also be used to perform operations with the attributes of our objects. Like the `__init__` method, the first argument is always `self`:"
      ]
    },
    {
      "cell_type": "code",
      "metadata": {
        "id": "55GoEAjUlm12",
        "colab_type": "code",
        "colab": {
          "base_uri": "https://localhost:8080/",
          "height": 51
        },
        "outputId": "657c3634-8243-4def-b7c0-d48508752ebb"
      },
      "source": [
        "class Dog:\n",
        "    # Class Attribute\n",
        "    species = 'mammal'\n",
        "\n",
        "    # Initializer / Constructor instance attributes\n",
        "    def __init__(self, name, age):\n",
        "        self.name = name\n",
        "        self.age = age\n",
        "\n",
        "    # instance method\n",
        "    def description(self):\n",
        "        return \"{} is {} years old\".format(self.name, self.age)\n",
        "\n",
        "    # instance method\n",
        "    def speak(self, sound):\n",
        "        return \"{} says {}\".format(self.name, sound)\n",
        "\n",
        "      \n",
        "# Instantiate the Dog object\n",
        "mikey = Dog(\"Mikey\", 6)\n",
        "\n",
        "\n",
        "# call our instance methods\n",
        "print(mikey.description())\n",
        "print(mikey.speak(\"Gruff Gruff\"))"
      ],
      "execution_count": 10,
      "outputs": [
        {
          "output_type": "stream",
          "text": [
            "Mikey is 6 years old\n",
            "Mikey says Gruff Gruff\n"
          ],
          "name": "stdout"
        }
      ]
    },
    {
      "cell_type": "markdown",
      "metadata": {
        "id": "hVq2LrsBl-D0",
        "colab_type": "text"
      },
      "source": [
        "In the latter method, `speak()`, we are defining behavior. What other behaviors could you assign to a dog? Look back to the beginning paragraph to see some example behaviors for other objects.\n",
        "\n",
        "This simplification of use is one of the benefits of OOP - the reduction of complexity - as our methods are shorter since they can directly access the class attributes. Were we to have written this using procedural programming, our functions would require more arguments. There are instances where that isn't true for classes - e.g. static methods, however we won't cover those in this tutorial. You can read more about that topic here: https://www.geeksforgeeks.org/class-method-vs-static-method-python/\n",
        "\n",
        "## Modifying Attributes\n",
        "\n",
        "We can change the value of attributes based on some behavior:"
      ]
    },
    {
      "cell_type": "code",
      "metadata": {
        "id": "dkhKQB54n3Od",
        "colab_type": "code",
        "colab": {}
      },
      "source": [
        "class Email:\n",
        "    def __init__(self):\n",
        "        self.is_sent = False\n",
        "    def send_email(self):\n",
        "        self.is_sent = True\n",
        "\n",
        "\n",
        "# our email has not been sent\n",
        "my_email = Email()\n",
        "print(my_email.is_sent)\n",
        "\n",
        "\n",
        "# now, let's send it\n",
        "my_email.send_email()\n",
        "print(my_email.is_sent)  # prints `True`"
      ],
      "execution_count": 0,
      "outputs": []
    },
    {
      "cell_type": "markdown",
      "metadata": {
        "id": "c7OqemY5oN84",
        "colab_type": "text"
      },
      "source": [
        "Here we've added a method to send an email, which updates the `is_sent` variable to `True`."
      ]
    },
    {
      "cell_type": "markdown",
      "metadata": {
        "id": "V_VfjYYnogzi",
        "colab_type": "text"
      },
      "source": [
        "## Python Object Inheritance\n",
        "\n",
        "Inheritance is the process by which one class takes on the attributes and methods of another. Newly formed classes are called _child classes_, and the classes that child classes are derived from are called _parent classes_.\n",
        "\n",
        "It’s important to note that child classes override _or_ extend the functionality (e.g., attributes and behaviors) of parent classes. In other words, child classes inherit all of the parent’s attributes and behaviors but can also specify different behavior to follow. The most basic type of class is an object, which generally all other classes inherit as their parent.\n",
        "\n",
        "When you define a new class, Python 3 it implicitly uses `object` as the parent class. So the following two definitions are equivalent:\n",
        "\n",
        "```python\n",
        "class Dog(object):\n",
        "    pass\n",
        "```\n",
        "\n",
        "```python\n",
        "# In Python 3, this is the same as:\n",
        "class Dog:\n",
        "    pass\n",
        "```\n",
        "\n",
        "Let’s pretend that we’re at a dog park. There are multiple Dog objects engaging in Dog behaviors, each with different attributes. In regular-speak that means some dogs are running, while some are stretching and some are just watching other dogs. Furthermore, each dog has been named by its owner and, since each dog is living and breathing, each ages.\n",
        "\n",
        "What’s another way to differentiate one dog from another? How about the dog’s breed? Let's encapsulate that functionality into the `Dog` class and a couple other child classes:"
      ]
    },
    {
      "cell_type": "code",
      "metadata": {
        "id": "MRAlaqmXpU08",
        "colab_type": "code",
        "colab": {
          "base_uri": "https://localhost:8080/",
          "height": 51
        },
        "outputId": "57fd158f-d9f3-419a-a02d-7501bb84a6fe"
      },
      "source": [
        "# Parent class\n",
        "class Dog:\n",
        "\n",
        "    # Class attribute\n",
        "    species = 'mammal'\n",
        "\n",
        "    # Initializer / Constructor / instance attributes\n",
        "    def __init__(self, name, age):\n",
        "        self.name = name\n",
        "        self.age = age\n",
        "\n",
        "    # instance method\n",
        "    def description(self):\n",
        "        return \"{} is {} years old\".format(self.name, self.age)\n",
        "\n",
        "    # instance method\n",
        "    def speak(self, sound):\n",
        "        return \"{} says {}\".format(self.name, sound)\n",
        "\n",
        "\n",
        "# Child class (inherits from Dog class)\n",
        "class RussellTerrier(Dog):\n",
        "    def run(self, speed):\n",
        "        return \"{} runs {}\".format(self.name, speed)\n",
        "\n",
        "\n",
        "      \n",
        "# Child class (inherits from Dog class)\n",
        "class Bulldog(Dog):\n",
        "    def run(self, speed):\n",
        "        return \"{} runs {}\".format(self.name, speed)\n",
        "\n",
        "\n",
        "# Child classes inherit attributes and\n",
        "# behaviors from the parent class\n",
        "jim = Bulldog(\"Jim\", 12)\n",
        "print(jim.description())\n",
        "\n",
        "\n",
        "# Child classes have specific attributes\n",
        "# and behaviors as well\n",
        "print(jim.run(\"slowly\"))"
      ],
      "execution_count": 11,
      "outputs": [
        {
          "output_type": "stream",
          "text": [
            "Jim is 12 years old\n",
            "Jim runs slowly\n"
          ],
          "name": "stdout"
        }
      ]
    },
    {
      "cell_type": "markdown",
      "metadata": {
        "id": "3MCphuMTpmtV",
        "colab_type": "text"
      },
      "source": [
        "To determine whether an object (an instance of a class) is also related (i.e. inherited / instance of a child class) we can use the `isinstance` function to do so."
      ]
    },
    {
      "cell_type": "code",
      "metadata": {
        "id": "9kiv95gbp4Ix",
        "colab_type": "code",
        "colab": {
          "base_uri": "https://localhost:8080/",
          "height": 85
        },
        "outputId": "69574c0e-029a-472d-86c6-0dad67f747ff"
      },
      "source": [
        "# Is jim an instance of Dog()?\n",
        "print(isinstance(jim, Dog))\n",
        "\n",
        "# Is julie an instance of Dog()?\n",
        "julie = Dog(\"Julie\", 100)\n",
        "print(isinstance(julie, Dog))\n",
        "\n",
        "# Is johnny walker an instance of Bulldog()\n",
        "johnnywalker = RussellTerrier(\"Johnny Walker\", 4)\n",
        "print(isinstance(johnnywalker, Bulldog))\n",
        "\n",
        "# Is julie and instance of jim's class?\n",
        "# Note that trying `isinstance(julie, jim)` will not work since `jim`\n",
        "# is an object!\n",
        "print(isinstance(julie, type(jim)))"
      ],
      "execution_count": 13,
      "outputs": [
        {
          "output_type": "stream",
          "text": [
            "True\n",
            "True\n",
            "False\n",
            "False\n"
          ],
          "name": "stdout"
        }
      ]
    },
    {
      "cell_type": "markdown",
      "metadata": {
        "id": "FcsZq-5wqncs",
        "colab_type": "text"
      },
      "source": [
        "## Overriding the Functionality of a Parent Class\n",
        "\n",
        "Remember that child classes can also override attributes and behaviors from the parent class. For example:"
      ]
    },
    {
      "cell_type": "code",
      "metadata": {
        "id": "H_PbjztLpkqf",
        "colab_type": "code",
        "colab": {}
      },
      "source": [
        "class Dog:\n",
        "    species = 'mammal'\n",
        "    \n",
        "class SomeBreed(Dog):\n",
        "    pass\n",
        "  \n",
        "class SomeOtherBreed(Dog):\n",
        "    species = 'reptile'\n",
        "    \n",
        "fifi = SomeBreed()\n",
        "print(fifi.species)\n",
        "\n",
        "foofoo = SomeOtherBreed()\n",
        "print(foofoo.species)"
      ],
      "execution_count": 0,
      "outputs": []
    },
    {
      "cell_type": "markdown",
      "metadata": {
        "id": "1vJLtQyLrbUb",
        "colab_type": "text"
      },
      "source": [
        "The `SomeBreed()` class inherits the species from the parent class, while the `SomeOtherBreed()` class overrides the species, setting it to reptile.\n",
        "\n",
        "Now that we've covered some of the basics of OOP in Python, we're going to apply it on a couple examples."
      ]
    },
    {
      "cell_type": "markdown",
      "metadata": {
        "id": "AS29AzM3-5EI",
        "colab_type": "text"
      },
      "source": [
        "## Exercise 1: Implement a class to describe Pokemon\n",
        "\n",
        "Activities:\n",
        "\n",
        "1. Implement a base class to define Pokemon - include common attributes and methods.\n",
        "2. Create several instances of common Pokemon - e.g. Pikachu, Charizard, Bulbasaur, etc. from the base class, or from other related / inherited classes.\n",
        "\n",
        "## Exercise 2: Apply the OOP paradigm to describe the following items:\n",
        "\n",
        "1. A Ford car\n",
        "2. Bicycle\n",
        "3. Tricylce\n",
        "4. Panel Van\n",
        "5. Truck\n",
        "6. 18 Wheeler\n",
        "7. Motorcycle\n",
        "8. Moped\n",
        "9. Jet ski\n",
        "10. Snow ski\n",
        "11. Tank\n",
        "12. F15 Jet\n",
        "13. Unicycle\n",
        "14. A Tesla\n"
      ]
    },
    {
      "cell_type": "markdown",
      "metadata": {
        "id": "nRgw95IF_aH7",
        "colab_type": "text"
      },
      "source": [
        "# Dynamic Programming\n",
        "\n",
        "Dynamic Programming is a method for solving a complex problem by breaking it down into a collection of simpler subproblems, solving each of those subproblems just once, and storing their solutions using a memory-based data structure (array, map,etc). \n",
        "\n",
        "Each of the subproblem solutions is indexed in some way, typically based on the values of its input parameters, so as to facilitate its lookup. So the next time the same subproblem occurs, instead of recomputing its solution, one simply looks up the previously computed solution, thereby saving computation time. This technique of storing solutions to subproblems instead of recomputing them is called memoization.\n",
        "\n",
        "One way of implementing this in Python is to use decorators. Let's say we have a function that requires intermediate results before completing - e.g. the Fibonacci function. The following version is a horrendously slow implementation of the Fibonacci function as the results are computed recursively. For small numbers the performance isn't bad, but gets progressively slower as the magnitude increases as the number of intermediate terms (and computations) also increases.\n",
        "\n",
        "Try several numbers to see this in action\n",
        "\n"
      ]
    },
    {
      "cell_type": "code",
      "metadata": {
        "id": "_obrLPIoAAYe",
        "colab_type": "code",
        "colab": {
          "base_uri": "https://localhost:8080/",
          "height": 34
        },
        "outputId": "614079ce-e63f-45d6-ca1f-b43558d598c8"
      },
      "source": [
        "def fib(n):\n",
        "    if n == 0:\n",
        "        return 0\n",
        "    elif n == 1:\n",
        "        return 1\n",
        "    else:\n",
        "        return fib(n-1) + fib(n-2)\n",
        "\n",
        "\n",
        "# use the `%timeit` Jupyter notebook \"magic\" function to measure the performance\n",
        "%timeit fib(10)"
      ],
      "execution_count": 16,
      "outputs": [
        {
          "output_type": "stream",
          "text": [
            "10000 loops, best of 3: 36.5 µs per loop\n"
          ],
          "name": "stdout"
        }
      ]
    },
    {
      "cell_type": "markdown",
      "metadata": {
        "id": "Z4uL6uPiBBuS",
        "colab_type": "text"
      },
      "source": [
        "Now, let's create a function that can cache previous results. This is called memoization."
      ]
    },
    {
      "cell_type": "code",
      "metadata": {
        "id": "Xt1bStQxBP0q",
        "colab_type": "code",
        "colab": {
          "base_uri": "https://localhost:8080/",
          "height": 51
        },
        "outputId": "4cf3fa3c-309a-4007-874b-23d43a6bbcf2"
      },
      "source": [
        "def memoize(f):\n",
        "    memo = {}\n",
        "    def helper(x):\n",
        "        if x not in memo:            \n",
        "            memo[x] = f(x)\n",
        "        return memo[x]\n",
        "    return helper\n",
        "  \n",
        "# now, let's apply the `memoize` function on `fib` for the same call (10)\n",
        "fib = memoize(fib)\n",
        "\n",
        "%timeit fib(10)"
      ],
      "execution_count": 17,
      "outputs": [
        {
          "output_type": "stream",
          "text": [
            "The slowest run took 90.88 times longer than the fastest. This could mean that an intermediate result is being cached.\n",
            "1000000 loops, best of 3: 198 ns per loop\n"
          ],
          "name": "stdout"
        }
      ]
    },
    {
      "cell_type": "markdown",
      "metadata": {
        "id": "ZoiKfIkBBkj6",
        "colab_type": "text"
      },
      "source": [
        "This performance is _much_ better. To make the `memoize` function easier to use, we can \"decorate\" the `fib` function with `memorize`. This is achieved  by prepending `@<function>` to the function we wish to decorate. Which, in this case, is `fib`. Hence:"
      ]
    },
    {
      "cell_type": "code",
      "metadata": {
        "id": "smYcy4O6B4Iv",
        "colab_type": "code",
        "colab": {
          "base_uri": "https://localhost:8080/",
          "height": 51
        },
        "outputId": "790ccbcb-dbfb-400a-87d0-c83685e88358"
      },
      "source": [
        "@memoize\n",
        "def fib(n):\n",
        "    if n == 0:\n",
        "        return 0\n",
        "    elif n == 1:\n",
        "        return 1\n",
        "    else:\n",
        "        return fib(n-1) + fib(n-2)\n",
        "      \n",
        "%timeit fib(10)"
      ],
      "execution_count": 18,
      "outputs": [
        {
          "output_type": "stream",
          "text": [
            "The slowest run took 59.98 times longer than the fastest. This could mean that an intermediate result is being cached.\n",
            "1000000 loops, best of 3: 200 ns per loop\n"
          ],
          "name": "stdout"
        }
      ]
    },
    {
      "cell_type": "markdown",
      "metadata": {
        "id": "3ZK8Vgp5B_hZ",
        "colab_type": "text"
      },
      "source": [
        "We obtain similar results. Although this technique is shown for numerical programming, it can be applied to a wide variety of other scenarios."
      ]
    },
    {
      "cell_type": "markdown",
      "metadata": {
        "id": "WjQyQ1qmlPmS",
        "colab_type": "text"
      },
      "source": [
        "# References\n",
        "\n",
        "1. https://realpython.com/python3-object-oriented-programming/\n",
        "2. https://docs.python.org/3/library/functions.html\n",
        "3. https://blog.usejournal.com/top-50-dynamic-programming-practice-problems-4208fed71aa3"
      ]
    }
  ]
}